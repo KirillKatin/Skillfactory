{
 "cells": [
  {
   "cell_type": "code",
   "execution_count": 2,
   "id": "f13e700d-47bf-4935-9696-bcb581c9c10a",
   "metadata": {
    "tags": []
   },
   "outputs": [],
   "source": [
    "# импорт пакетов и библиотек\n",
    "import pandas as pd\n",
    "import numpy as np\n",
    "import seaborn as sns\n",
    "\n",
    "import matplotlib.pyplot as plt\n",
    "import matplotlib.mlab as mlab\n",
    "import matplotlib\n",
    "\n",
    "import scipy\n",
    "import scipy.stats as stats\n",
    "\n",
    "import statistics as st\n",
    "\n",
    "from itertools import combinations, chain"
   ]
  },
  {
   "cell_type": "code",
   "execution_count": 3,
   "id": "a13f3266-839d-4db3-99b3-d2fa88e9cb08",
   "metadata": {},
   "outputs": [],
   "source": [
    "# считываем данные из файла\n",
    "df = pd.read_csv('stud_math.csv')"
   ]
  },
  {
   "cell_type": "code",
   "execution_count": 4,
   "id": "76f8284a-d6fc-4e6f-9cf7-a83805cb181a",
   "metadata": {
    "tags": []
   },
   "outputs": [],
   "source": [
    "pd.set_option('display.max_columns', 60)"
   ]
  },
  {
   "cell_type": "code",
   "execution_count": 5,
   "id": "4c9c755a-5253-4d84-a0be-af9a77934e1f",
   "metadata": {
    "tags": []
   },
   "outputs": [
    {
     "data": {
      "text/html": [
       "<div>\n",
       "<style scoped>\n",
       "    .dataframe tbody tr th:only-of-type {\n",
       "        vertical-align: middle;\n",
       "    }\n",
       "\n",
       "    .dataframe tbody tr th {\n",
       "        vertical-align: top;\n",
       "    }\n",
       "\n",
       "    .dataframe thead th {\n",
       "        text-align: right;\n",
       "    }\n",
       "</style>\n",
       "<table border=\"1\" class=\"dataframe\">\n",
       "  <thead>\n",
       "    <tr style=\"text-align: right;\">\n",
       "      <th></th>\n",
       "      <th>school</th>\n",
       "      <th>sex</th>\n",
       "      <th>age</th>\n",
       "      <th>address</th>\n",
       "      <th>family_size</th>\n",
       "      <th>parents_status</th>\n",
       "      <th>mother_education</th>\n",
       "      <th>father_education</th>\n",
       "      <th>mother_job</th>\n",
       "      <th>father_job</th>\n",
       "      <th>reason</th>\n",
       "      <th>guardian</th>\n",
       "      <th>travel_time</th>\n",
       "      <th>study_time</th>\n",
       "      <th>failures</th>\n",
       "      <th>school_support</th>\n",
       "      <th>family_support</th>\n",
       "      <th>paid</th>\n",
       "      <th>activities</th>\n",
       "      <th>nursery</th>\n",
       "      <th>studytime_granular</th>\n",
       "      <th>higher</th>\n",
       "      <th>internet</th>\n",
       "      <th>romantic</th>\n",
       "      <th>family_relationship</th>\n",
       "      <th>free_time</th>\n",
       "      <th>go_out</th>\n",
       "      <th>health</th>\n",
       "      <th>absences</th>\n",
       "      <th>score</th>\n",
       "    </tr>\n",
       "  </thead>\n",
       "  <tbody>\n",
       "    <tr>\n",
       "      <th>0</th>\n",
       "      <td>GP</td>\n",
       "      <td>F</td>\n",
       "      <td>18</td>\n",
       "      <td>U</td>\n",
       "      <td>NaN</td>\n",
       "      <td>A</td>\n",
       "      <td>4.0</td>\n",
       "      <td>4.0</td>\n",
       "      <td>at_home</td>\n",
       "      <td>teacher</td>\n",
       "      <td>course</td>\n",
       "      <td>mother</td>\n",
       "      <td>2.0</td>\n",
       "      <td>2.0</td>\n",
       "      <td>0.0</td>\n",
       "      <td>yes</td>\n",
       "      <td>no</td>\n",
       "      <td>no</td>\n",
       "      <td>no</td>\n",
       "      <td>yes</td>\n",
       "      <td>-6.0</td>\n",
       "      <td>yes</td>\n",
       "      <td>NaN</td>\n",
       "      <td>no</td>\n",
       "      <td>4.0</td>\n",
       "      <td>3.0</td>\n",
       "      <td>4.0</td>\n",
       "      <td>3.0</td>\n",
       "      <td>6.0</td>\n",
       "      <td>30.0</td>\n",
       "    </tr>\n",
       "    <tr>\n",
       "      <th>1</th>\n",
       "      <td>GP</td>\n",
       "      <td>F</td>\n",
       "      <td>17</td>\n",
       "      <td>U</td>\n",
       "      <td>GT3</td>\n",
       "      <td>NaN</td>\n",
       "      <td>1.0</td>\n",
       "      <td>1.0</td>\n",
       "      <td>at_home</td>\n",
       "      <td>other</td>\n",
       "      <td>course</td>\n",
       "      <td>father</td>\n",
       "      <td>1.0</td>\n",
       "      <td>2.0</td>\n",
       "      <td>0.0</td>\n",
       "      <td>no</td>\n",
       "      <td>yes</td>\n",
       "      <td>no</td>\n",
       "      <td>no</td>\n",
       "      <td>no</td>\n",
       "      <td>-6.0</td>\n",
       "      <td>yes</td>\n",
       "      <td>yes</td>\n",
       "      <td>no</td>\n",
       "      <td>5.0</td>\n",
       "      <td>3.0</td>\n",
       "      <td>3.0</td>\n",
       "      <td>3.0</td>\n",
       "      <td>4.0</td>\n",
       "      <td>30.0</td>\n",
       "    </tr>\n",
       "    <tr>\n",
       "      <th>2</th>\n",
       "      <td>GP</td>\n",
       "      <td>F</td>\n",
       "      <td>15</td>\n",
       "      <td>U</td>\n",
       "      <td>LE3</td>\n",
       "      <td>T</td>\n",
       "      <td>1.0</td>\n",
       "      <td>1.0</td>\n",
       "      <td>at_home</td>\n",
       "      <td>other</td>\n",
       "      <td>other</td>\n",
       "      <td>mother</td>\n",
       "      <td>1.0</td>\n",
       "      <td>2.0</td>\n",
       "      <td>3.0</td>\n",
       "      <td>yes</td>\n",
       "      <td>no</td>\n",
       "      <td>NaN</td>\n",
       "      <td>no</td>\n",
       "      <td>yes</td>\n",
       "      <td>-6.0</td>\n",
       "      <td>yes</td>\n",
       "      <td>yes</td>\n",
       "      <td>NaN</td>\n",
       "      <td>4.0</td>\n",
       "      <td>3.0</td>\n",
       "      <td>2.0</td>\n",
       "      <td>3.0</td>\n",
       "      <td>10.0</td>\n",
       "      <td>50.0</td>\n",
       "    </tr>\n",
       "    <tr>\n",
       "      <th>3</th>\n",
       "      <td>GP</td>\n",
       "      <td>F</td>\n",
       "      <td>15</td>\n",
       "      <td>U</td>\n",
       "      <td>GT3</td>\n",
       "      <td>T</td>\n",
       "      <td>4.0</td>\n",
       "      <td>2.0</td>\n",
       "      <td>health</td>\n",
       "      <td>NaN</td>\n",
       "      <td>home</td>\n",
       "      <td>mother</td>\n",
       "      <td>1.0</td>\n",
       "      <td>3.0</td>\n",
       "      <td>0.0</td>\n",
       "      <td>no</td>\n",
       "      <td>yes</td>\n",
       "      <td>yes</td>\n",
       "      <td>yes</td>\n",
       "      <td>yes</td>\n",
       "      <td>-9.0</td>\n",
       "      <td>yes</td>\n",
       "      <td>yes</td>\n",
       "      <td>yes</td>\n",
       "      <td>3.0</td>\n",
       "      <td>2.0</td>\n",
       "      <td>2.0</td>\n",
       "      <td>5.0</td>\n",
       "      <td>2.0</td>\n",
       "      <td>75.0</td>\n",
       "    </tr>\n",
       "    <tr>\n",
       "      <th>4</th>\n",
       "      <td>GP</td>\n",
       "      <td>F</td>\n",
       "      <td>16</td>\n",
       "      <td>U</td>\n",
       "      <td>GT3</td>\n",
       "      <td>T</td>\n",
       "      <td>3.0</td>\n",
       "      <td>3.0</td>\n",
       "      <td>other</td>\n",
       "      <td>other</td>\n",
       "      <td>home</td>\n",
       "      <td>father</td>\n",
       "      <td>1.0</td>\n",
       "      <td>2.0</td>\n",
       "      <td>0.0</td>\n",
       "      <td>no</td>\n",
       "      <td>yes</td>\n",
       "      <td>yes</td>\n",
       "      <td>no</td>\n",
       "      <td>yes</td>\n",
       "      <td>-6.0</td>\n",
       "      <td>yes</td>\n",
       "      <td>no</td>\n",
       "      <td>no</td>\n",
       "      <td>4.0</td>\n",
       "      <td>3.0</td>\n",
       "      <td>2.0</td>\n",
       "      <td>5.0</td>\n",
       "      <td>4.0</td>\n",
       "      <td>50.0</td>\n",
       "    </tr>\n",
       "  </tbody>\n",
       "</table>\n",
       "</div>"
      ],
      "text/plain": [
       "  school sex  age address family_size parents_status  mother_education  \\\n",
       "0     GP   F   18       U         NaN              A               4.0   \n",
       "1     GP   F   17       U         GT3            NaN               1.0   \n",
       "2     GP   F   15       U         LE3              T               1.0   \n",
       "3     GP   F   15       U         GT3              T               4.0   \n",
       "4     GP   F   16       U         GT3              T               3.0   \n",
       "\n",
       "   father_education mother_job father_job  reason guardian  travel_time  \\\n",
       "0               4.0    at_home    teacher  course   mother          2.0   \n",
       "1               1.0    at_home      other  course   father          1.0   \n",
       "2               1.0    at_home      other   other   mother          1.0   \n",
       "3               2.0     health        NaN    home   mother          1.0   \n",
       "4               3.0      other      other    home   father          1.0   \n",
       "\n",
       "   study_time  failures school_support family_support paid activities nursery  \\\n",
       "0         2.0       0.0            yes             no   no         no     yes   \n",
       "1         2.0       0.0             no            yes   no         no      no   \n",
       "2         2.0       3.0            yes             no  NaN         no     yes   \n",
       "3         3.0       0.0             no            yes  yes        yes     yes   \n",
       "4         2.0       0.0             no            yes  yes         no     yes   \n",
       "\n",
       "   studytime_granular higher internet romantic  family_relationship  \\\n",
       "0                -6.0    yes      NaN       no                  4.0   \n",
       "1                -6.0    yes      yes       no                  5.0   \n",
       "2                -6.0    yes      yes      NaN                  4.0   \n",
       "3                -9.0    yes      yes      yes                  3.0   \n",
       "4                -6.0    yes       no       no                  4.0   \n",
       "\n",
       "   free_time  go_out  health  absences  score  \n",
       "0        3.0     4.0     3.0       6.0   30.0  \n",
       "1        3.0     3.0     3.0       4.0   30.0  \n",
       "2        3.0     2.0     3.0      10.0   50.0  \n",
       "3        2.0     2.0     5.0       2.0   75.0  \n",
       "4        3.0     2.0     5.0       4.0   50.0  "
      ]
     },
     "execution_count": 5,
     "metadata": {},
     "output_type": "execute_result"
    }
   ],
   "source": [
    "# приводим в порядок названия колонок\n",
    "df.rename(columns={'famsize': 'family_size', 'Pstatus': 'parents_status', 'Medu': 'mother_education',\n",
    "                   'Fedu': 'father_education', 'Mjob': 'mother_job', 'Fjob': 'father_job', 'traveltime': 'travel_time',\n",
    "                   'studytime': 'study_time', 'schoolsup': 'school_support', 'famsup': 'family_support',\n",
    "                   'studytime, granular': 'studytime_granular', 'famrel': 'family_relationship', 'freetime': 'free_time',\n",
    "                   'goout': 'go_out'}, inplace=True)\n",
    "df.head(5)"
   ]
  },
  {
   "cell_type": "code",
   "execution_count": 6,
   "id": "cf5994fb-5a6e-458b-aca0-6b28551d71ce",
   "metadata": {
    "tags": []
   },
   "outputs": [
    {
     "name": "stdout",
     "output_type": "stream",
     "text": [
      "4\n"
     ]
    }
   ],
   "source": [
    "# проверим неописаный в задании параметр studytime_granular\n",
    "print(df.studytime_granular.nunique())"
   ]
  },
  {
   "cell_type": "code",
   "execution_count": 7,
   "id": "4f730862-8593-496d-b288-b1e2082417e8",
   "metadata": {
    "tags": []
   },
   "outputs": [
    {
     "data": {
      "text/plain": [
       "<AxesSubplot:ylabel='Frequency'>"
      ]
     },
     "execution_count": 7,
     "metadata": {},
     "output_type": "execute_result"
    },
    {
     "data": {
      "image/png": "[encoded data removed]",
      "text/plain": [
       "<Figure size 432x288 with 1 Axes>"
      ]
     },
     "metadata": {
      "needs_background": "light"
     },
     "output_type": "display_data"
    }
   ],
   "source": [
    "df.studytime_granular.plot.hist()\n",
    "# ВЫВОД: пока оставим параметр для дальнейшего исследования"
   ]
  },
  {
   "cell_type": "code",
   "execution_count": 8,
   "id": "06d373dc-9032-4bf8-898a-f8e9a1802eb3",
   "metadata": {
    "tags": []
   },
   "outputs": [
    {
     "data": {
      "text/plain": [
       "(395, 30)"
      ]
     },
     "execution_count": 8,
     "metadata": {},
     "output_type": "execute_result"
    }
   ],
   "source": [
    "df.shape"
   ]
  },
  {
   "cell_type": "code",
   "execution_count": 9,
   "id": "71eb1d4e-7985-4c1a-ab28-169c9b3158db",
   "metadata": {
    "tags": []
   },
   "outputs": [
    {
     "name": "stdout",
     "output_type": "stream",
     "text": [
      "<class 'pandas.core.frame.DataFrame'>\n",
      "RangeIndex: 395 entries, 0 to 394\n",
      "Data columns (total 30 columns):\n",
      " #   Column               Non-Null Count  Dtype  \n",
      "---  ------               --------------  -----  \n",
      " 0   school               395 non-null    object \n",
      " 1   sex                  395 non-null    object \n",
      " 2   age                  395 non-null    int64  \n",
      " 3   address              378 non-null    object \n",
      " 4   family_size          368 non-null    object \n",
      " 5   parents_status       350 non-null    object \n",
      " 6   mother_education     392 non-null    float64\n",
      " 7   father_education     371 non-null    float64\n",
      " 8   mother_job           376 non-null    object \n",
      " 9   father_job           359 non-null    object \n",
      " 10  reason               378 non-null    object \n",
      " 11  guardian             364 non-null    object \n",
      " 12  travel_time          367 non-null    float64\n",
      " 13  study_time           388 non-null    float64\n",
      " 14  failures             373 non-null    float64\n",
      " 15  school_support       386 non-null    object \n",
      " 16  family_support       356 non-null    object \n",
      " 17  paid                 355 non-null    object \n",
      " 18  activities           381 non-null    object \n",
      " 19  nursery              379 non-null    object \n",
      " 20  studytime_granular   388 non-null    float64\n",
      " 21  higher               375 non-null    object \n",
      " 22  internet             361 non-null    object \n",
      " 23  romantic             364 non-null    object \n",
      " 24  family_relationship  368 non-null    float64\n",
      " 25  free_time            384 non-null    float64\n",
      " 26  go_out               387 non-null    float64\n",
      " 27  health               380 non-null    float64\n",
      " 28  absences             383 non-null    float64\n",
      " 29  score                389 non-null    float64\n",
      "dtypes: float64(12), int64(1), object(17)\n",
      "memory usage: 92.7+ KB\n"
     ]
    }
   ],
   "source": [
    "df.info()"
   ]
  },
  {
   "cell_type": "code",
   "execution_count": 10,
   "id": "58aaae6d-e3d9-4f57-b314-88b1efeff234",
   "metadata": {
    "tags": []
   },
   "outputs": [
    {
     "data": {
      "text/plain": [
       "address                17\n",
       "family_size            27\n",
       "parents_status         45\n",
       "mother_education        3\n",
       "father_education       24\n",
       "mother_job             19\n",
       "father_job             36\n",
       "reason                 17\n",
       "guardian               31\n",
       "travel_time            28\n",
       "study_time              7\n",
       "failures               22\n",
       "school_support          9\n",
       "family_support         39\n",
       "paid                   40\n",
       "activities             14\n",
       "nursery                16\n",
       "studytime_granular      7\n",
       "higher                 20\n",
       "internet               34\n",
       "romantic               31\n",
       "family_relationship    27\n",
       "free_time              11\n",
       "go_out                  8\n",
       "health                 15\n",
       "absences               12\n",
       "score                   6\n",
       "dtype: int64"
      ]
     },
     "execution_count": 10,
     "metadata": {},
     "output_type": "execute_result"
    }
   ],
   "source": [
    "# количество пропусков по столбцам\n",
    "null_data = df.isnull().sum()\n",
    "null_data[null_data > 0]"
   ]
  },
  {
   "cell_type": "code",
   "execution_count": 11,
   "id": "5e805b03-f4f1-4ed7-b784-565c706c7df1",
   "metadata": {},
   "outputs": [
    {
     "data": {
      "text/plain": [
       "[]"
      ]
     },
     "execution_count": 11,
     "metadata": {},
     "output_type": "execute_result"
    }
   ],
   "source": [
    "# проверяем нет ли в каких-либо колонках более 30% пропусков, если да, то такие колонки удаляем\n",
    "cols_for_drop = [col for col in df.columns if df[col].isnull().sum()\n",
    "                 > df[col].shape[0] * 0.3]\n",
    "cols_for_drop\n",
    "# reduced_df = df.drop(cols_for_drop, axis=1)\n",
    "# reduced_df"
   ]
  },
  {
   "cell_type": "code",
   "execution_count": 12,
   "id": "cd375236-cdd9-4513-bbab-880a693fbcd8",
   "metadata": {
    "tags": []
   },
   "outputs": [
    {
     "name": "stdout",
     "output_type": "stream",
     "text": [
      "['age' 'mother_education' 'father_education' 'travel_time' 'study_time'\n",
      " 'failures' 'studytime_granular' 'family_relationship' 'free_time'\n",
      " 'go_out' 'health' 'absences' 'score']\n"
     ]
    }
   ],
   "source": [
    "# отбор количественных параметров\n",
    "df_numeric = df.select_dtypes(include=[np.number])\n",
    "numeric_cols = df_numeric.columns.values\n",
    "print(numeric_cols)"
   ]
  },
  {
   "cell_type": "code",
   "execution_count": 13,
   "id": "2b6e09e8-bae3-4d68-a3ae-d05989b5532c",
   "metadata": {
    "tags": []
   },
   "outputs": [
    {
     "name": "stdout",
     "output_type": "stream",
     "text": [
      "['school' 'sex' 'address' 'family_size' 'parents_status' 'mother_job'\n",
      " 'father_job' 'reason' 'guardian' 'school_support' 'family_support' 'paid'\n",
      " 'activities' 'nursery' 'higher' 'internet' 'romantic']\n"
     ]
    }
   ],
   "source": [
    "# отбор номинативных параметров\n",
    "df_non_numeric = df.select_dtypes(exclude=[np.number])\n",
    "non_numeric_cols = df_non_numeric.columns.values\n",
    "print(non_numeric_cols)"
   ]
  },
  {
   "cell_type": "code",
   "execution_count": 14,
   "id": "21511e60-329f-4e7c-af89-eea5147bcba4",
   "metadata": {},
   "outputs": [
    {
     "data": {
      "text/plain": [
       "<AxesSubplot:ylabel='Frequency'>"
      ]
     },
     "execution_count": 14,
     "metadata": {},
     "output_type": "execute_result"
    },
    {
     "data": {
      "image/png": "[encoded data removed]",
      "text/plain": [
       "<Figure size 432x288 with 1 Axes>"
      ]
     },
     "metadata": {
      "needs_background": "light"
     },
     "output_type": "display_data"
    }
   ],
   "source": [
    "# строим гистограмму для score\n",
    "df.score.plot.hist(bins=50)\n",
    "# ВЫВОД: выбросов нет"
   ]
  },
  {
   "cell_type": "code",
   "execution_count": 15,
   "id": "42ea9df6-5c61-4682-9dfa-6ed54ba13586",
   "metadata": {},
   "outputs": [
    {
     "data": {
      "text/plain": [
       "<AxesSubplot:ylabel='Frequency'>"
      ]
     },
     "execution_count": 15,
     "metadata": {},
     "output_type": "execute_result"
    },
    {
     "data": {
      "image/png": "[encoded data removed]",
      "text/plain": [
       "<Figure size 432x288 with 1 Axes>"
      ]
     },
     "metadata": {
      "needs_background": "light"
     },
     "output_type": "display_data"
    }
   ],
   "source": [
    "df.age.plot.hist(bins=50)\n",
    "# ВЫВОД: все нормально"
   ]
  },
  {
   "cell_type": "code",
   "execution_count": 16,
   "id": "de2170e8-3293-42e9-a0d7-fb8aad9d0f28",
   "metadata": {},
   "outputs": [
    {
     "data": {
      "text/plain": [
       "<AxesSubplot:ylabel='Frequency'>"
      ]
     },
     "execution_count": 16,
     "metadata": {},
     "output_type": "execute_result"
    },
    {
     "data": {
      "image/png": "[encoded data removed]",
      "text/plain": [
       "<Figure size 432x288 with 1 Axes>"
      ]
     },
     "metadata": {
      "needs_background": "light"
     },
     "output_type": "display_data"
    }
   ],
   "source": [
    "df.mother_education.plot.hist(bins=50)\n",
    "# ВЫВОД: все нормально"
   ]
  },
  {
   "cell_type": "code",
   "execution_count": 17,
   "id": "a3866f76-f87d-4b3b-8edf-47c2256113d8",
   "metadata": {},
   "outputs": [
    {
     "data": {
      "text/plain": [
       "<AxesSubplot:ylabel='Frequency'>"
      ]
     },
     "execution_count": 17,
     "metadata": {},
     "output_type": "execute_result"
    },
    {
     "data": {
      "image/png": "[encoded data removed]",
      "text/plain": [
       "<Figure size 432x288 with 1 Axes>"
      ]
     },
     "metadata": {
      "needs_background": "light"
     },
     "output_type": "display_data"
    }
   ],
   "source": [
    "df.father_education.plot.hist(bins=100)\n",
    "# ВЫВОД: есть выброс"
   ]
  },
  {
   "cell_type": "code",
   "execution_count": 18,
   "id": "59e2686e-528f-49e1-b2fc-1135fa15f701",
   "metadata": {},
   "outputs": [
    {
     "data": {
      "text/html": [
       "<div>\n",
       "<style scoped>\n",
       "    .dataframe tbody tr th:only-of-type {\n",
       "        vertical-align: middle;\n",
       "    }\n",
       "\n",
       "    .dataframe tbody tr th {\n",
       "        vertical-align: top;\n",
       "    }\n",
       "\n",
       "    .dataframe thead th {\n",
       "        text-align: right;\n",
       "    }\n",
       "</style>\n",
       "<table border=\"1\" class=\"dataframe\">\n",
       "  <thead>\n",
       "    <tr style=\"text-align: right;\">\n",
       "      <th></th>\n",
       "      <th>school</th>\n",
       "      <th>sex</th>\n",
       "      <th>age</th>\n",
       "      <th>address</th>\n",
       "      <th>family_size</th>\n",
       "      <th>parents_status</th>\n",
       "      <th>mother_education</th>\n",
       "      <th>father_education</th>\n",
       "      <th>mother_job</th>\n",
       "      <th>father_job</th>\n",
       "      <th>reason</th>\n",
       "      <th>guardian</th>\n",
       "      <th>travel_time</th>\n",
       "      <th>study_time</th>\n",
       "      <th>failures</th>\n",
       "      <th>school_support</th>\n",
       "      <th>family_support</th>\n",
       "      <th>paid</th>\n",
       "      <th>activities</th>\n",
       "      <th>nursery</th>\n",
       "      <th>studytime_granular</th>\n",
       "      <th>higher</th>\n",
       "      <th>internet</th>\n",
       "      <th>romantic</th>\n",
       "      <th>family_relationship</th>\n",
       "      <th>free_time</th>\n",
       "      <th>go_out</th>\n",
       "      <th>health</th>\n",
       "      <th>absences</th>\n",
       "      <th>score</th>\n",
       "    </tr>\n",
       "  </thead>\n",
       "  <tbody>\n",
       "    <tr>\n",
       "      <th>11</th>\n",
       "      <td>GP</td>\n",
       "      <td>F</td>\n",
       "      <td>15</td>\n",
       "      <td>U</td>\n",
       "      <td>GT3</td>\n",
       "      <td>NaN</td>\n",
       "      <td>2.0</td>\n",
       "      <td>40.0</td>\n",
       "      <td>services</td>\n",
       "      <td>other</td>\n",
       "      <td>reputation</td>\n",
       "      <td>father</td>\n",
       "      <td>3.0</td>\n",
       "      <td>3.0</td>\n",
       "      <td>0.0</td>\n",
       "      <td>no</td>\n",
       "      <td>yes</td>\n",
       "      <td>no</td>\n",
       "      <td>yes</td>\n",
       "      <td>yes</td>\n",
       "      <td>-9.0</td>\n",
       "      <td>yes</td>\n",
       "      <td>yes</td>\n",
       "      <td>no</td>\n",
       "      <td>5.0</td>\n",
       "      <td>2.0</td>\n",
       "      <td>2.0</td>\n",
       "      <td>4.0</td>\n",
       "      <td>4.0</td>\n",
       "      <td>60.0</td>\n",
       "    </tr>\n",
       "  </tbody>\n",
       "</table>\n",
       "</div>"
      ],
      "text/plain": [
       "   school sex  age address family_size parents_status  mother_education  \\\n",
       "11     GP   F   15       U         GT3            NaN               2.0   \n",
       "\n",
       "    father_education mother_job father_job      reason guardian  travel_time  \\\n",
       "11              40.0   services      other  reputation   father          3.0   \n",
       "\n",
       "    study_time  failures school_support family_support paid activities  \\\n",
       "11         3.0       0.0             no            yes   no        yes   \n",
       "\n",
       "   nursery  studytime_granular higher internet romantic  family_relationship  \\\n",
       "11     yes                -9.0    yes      yes       no                  5.0   \n",
       "\n",
       "    free_time  go_out  health  absences  score  \n",
       "11        2.0     2.0     4.0       4.0   60.0  "
      ]
     },
     "execution_count": 18,
     "metadata": {},
     "output_type": "execute_result"
    }
   ],
   "source": [
    "# ищем строку с выбросом\n",
    "df[df.father_education > 4]"
   ]
  },
  {
   "cell_type": "code",
   "execution_count": 19,
   "id": "c3da02cd-dc9b-424d-abf2-dc446624ab6d",
   "metadata": {
    "tags": []
   },
   "outputs": [],
   "source": [
    "# заменяем значение выброса больше 4 на NaN\n",
    "df.loc[df['father_education'] > 4, 'father_education'] = np.nan"
   ]
  },
  {
   "cell_type": "code",
   "execution_count": 20,
   "id": "6dd8ae9c-0b19-4c42-88f6-cff99bea1884",
   "metadata": {},
   "outputs": [
    {
     "data": {
      "text/html": [
       "<div>\n",
       "<style scoped>\n",
       "    .dataframe tbody tr th:only-of-type {\n",
       "        vertical-align: middle;\n",
       "    }\n",
       "\n",
       "    .dataframe tbody tr th {\n",
       "        vertical-align: top;\n",
       "    }\n",
       "\n",
       "    .dataframe thead th {\n",
       "        text-align: right;\n",
       "    }\n",
       "</style>\n",
       "<table border=\"1\" class=\"dataframe\">\n",
       "  <thead>\n",
       "    <tr style=\"text-align: right;\">\n",
       "      <th></th>\n",
       "      <th>school</th>\n",
       "      <th>sex</th>\n",
       "      <th>age</th>\n",
       "      <th>address</th>\n",
       "      <th>family_size</th>\n",
       "      <th>parents_status</th>\n",
       "      <th>mother_education</th>\n",
       "      <th>father_education</th>\n",
       "      <th>mother_job</th>\n",
       "      <th>father_job</th>\n",
       "      <th>reason</th>\n",
       "      <th>guardian</th>\n",
       "      <th>travel_time</th>\n",
       "      <th>study_time</th>\n",
       "      <th>failures</th>\n",
       "      <th>school_support</th>\n",
       "      <th>family_support</th>\n",
       "      <th>paid</th>\n",
       "      <th>activities</th>\n",
       "      <th>nursery</th>\n",
       "      <th>studytime_granular</th>\n",
       "      <th>higher</th>\n",
       "      <th>internet</th>\n",
       "      <th>romantic</th>\n",
       "      <th>family_relationship</th>\n",
       "      <th>free_time</th>\n",
       "      <th>go_out</th>\n",
       "      <th>health</th>\n",
       "      <th>absences</th>\n",
       "      <th>score</th>\n",
       "    </tr>\n",
       "  </thead>\n",
       "  <tbody>\n",
       "  </tbody>\n",
       "</table>\n",
       "</div>"
      ],
      "text/plain": [
       "Empty DataFrame\n",
       "Columns: [school, sex, age, address, family_size, parents_status, mother_education, father_education, mother_job, father_job, reason, guardian, travel_time, study_time, failures, school_support, family_support, paid, activities, nursery, studytime_granular, higher, internet, romantic, family_relationship, free_time, go_out, health, absences, score]\n",
       "Index: []"
      ]
     },
     "execution_count": 20,
     "metadata": {},
     "output_type": "execute_result"
    }
   ],
   "source": [
    "df[df.father_education > 4]"
   ]
  },
  {
   "cell_type": "code",
   "execution_count": 21,
   "id": "d3e2ea45-9d53-4e40-b66b-ee825ac123da",
   "metadata": {
    "tags": []
   },
   "outputs": [
    {
     "data": {
      "text/plain": [
       "<AxesSubplot:ylabel='Frequency'>"
      ]
     },
     "execution_count": 21,
     "metadata": {},
     "output_type": "execute_result"
    },
    {
     "data": {
      "image/png": "[encoded data removed]",
      "text/plain": [
       "<Figure size 432x288 with 1 Axes>"
      ]
     },
     "metadata": {
      "needs_background": "light"
     },
     "output_type": "display_data"
    }
   ],
   "source": [
    "df.father_education.plot.hist(bins=50)"
   ]
  },
  {
   "cell_type": "code",
   "execution_count": 22,
   "id": "3e521535-ff20-4ab5-a9ff-de51ba3fdb74",
   "metadata": {},
   "outputs": [
    {
     "data": {
      "text/plain": [
       "<AxesSubplot:ylabel='Frequency'>"
      ]
     },
     "execution_count": 22,
     "metadata": {},
     "output_type": "execute_result"
    },
    {
     "data": {
      "image/png": "[encoded data removed]",
      "text/plain": [
       "<Figure size 432x288 with 1 Axes>"
      ]
     },
     "metadata": {
      "needs_background": "light"
     },
     "output_type": "display_data"
    }
   ],
   "source": [
    "df.travel_time.plot.hist(bins=50)\n",
    "# ВЫВОД: все нормально"
   ]
  },
  {
   "cell_type": "code",
   "execution_count": 23,
   "id": "9519032f-13aa-40a0-8231-236b763aa73f",
   "metadata": {},
   "outputs": [
    {
     "data": {
      "text/plain": [
       "<AxesSubplot:ylabel='Frequency'>"
      ]
     },
     "execution_count": 23,
     "metadata": {},
     "output_type": "execute_result"
    },
    {
     "data": {
      "image/png": "[encoded data removed]",
      "text/plain": [
       "<Figure size 432x288 with 1 Axes>"
      ]
     },
     "metadata": {
      "needs_background": "light"
     },
     "output_type": "display_data"
    }
   ],
   "source": [
    "df.study_time.plot.hist(bins=50)\n",
    "# ВЫВОД: все нормально"
   ]
  },
  {
   "cell_type": "code",
   "execution_count": 24,
   "id": "6ddedf07-68cc-40fc-918b-2f300035659e",
   "metadata": {},
   "outputs": [
    {
     "data": {
      "text/plain": [
       "<AxesSubplot:ylabel='Frequency'>"
      ]
     },
     "execution_count": 24,
     "metadata": {},
     "output_type": "execute_result"
    },
    {
     "data": {
      "image/png": "[encoded data removed]",
      "text/plain": [
       "<Figure size 432x288 with 1 Axes>"
      ]
     },
     "metadata": {
      "needs_background": "light"
     },
     "output_type": "display_data"
    }
   ],
   "source": [
    "df.failures.plot.hist(bins=50)\n",
    "# ВЫВОД: все нормально"
   ]
  },
  {
   "cell_type": "code",
   "execution_count": 25,
   "id": "34f03278-a24f-4612-891e-385025aa2602",
   "metadata": {},
   "outputs": [
    {
     "data": {
      "text/plain": [
       "<AxesSubplot:ylabel='Frequency'>"
      ]
     },
     "execution_count": 25,
     "metadata": {},
     "output_type": "execute_result"
    },
    {
     "data": {
      "image/png": "[encoded data removed]",
      "text/plain": [
       "<Figure size 432x288 with 1 Axes>"
      ]
     },
     "metadata": {
      "needs_background": "light"
     },
     "output_type": "display_data"
    }
   ],
   "source": [
    "df.studytime_granular.plot.hist(bins=50)\n",
    "# ВЫВОД: все нормально"
   ]
  },
  {
   "cell_type": "code",
   "execution_count": 26,
   "id": "2e506101-b30c-48c4-aef8-2b70da66fef5",
   "metadata": {
    "tags": []
   },
   "outputs": [
    {
     "data": {
      "text/plain": [
       "<AxesSubplot:ylabel='Frequency'>"
      ]
     },
     "execution_count": 26,
     "metadata": {},
     "output_type": "execute_result"
    },
    {
     "data": {
      "image/png": "[encoded data removed]",
      "text/plain": [
       "<Figure size 432x288 with 1 Axes>"
      ]
     },
     "metadata": {
      "needs_background": "light"
     },
     "output_type": "display_data"
    }
   ],
   "source": [
    "df.family_relationship.plot.hist(bins=50)\n",
    "# ВЫВОД: есть выброс"
   ]
  },
  {
   "cell_type": "code",
   "execution_count": 27,
   "id": "ef5f5fb7-6fa5-4c88-be8d-19ee011eed28",
   "metadata": {},
   "outputs": [
    {
     "data": {
      "text/html": [
       "<div>\n",
       "<style scoped>\n",
       "    .dataframe tbody tr th:only-of-type {\n",
       "        vertical-align: middle;\n",
       "    }\n",
       "\n",
       "    .dataframe tbody tr th {\n",
       "        vertical-align: top;\n",
       "    }\n",
       "\n",
       "    .dataframe thead th {\n",
       "        text-align: right;\n",
       "    }\n",
       "</style>\n",
       "<table border=\"1\" class=\"dataframe\">\n",
       "  <thead>\n",
       "    <tr style=\"text-align: right;\">\n",
       "      <th></th>\n",
       "      <th>school</th>\n",
       "      <th>sex</th>\n",
       "      <th>age</th>\n",
       "      <th>address</th>\n",
       "      <th>family_size</th>\n",
       "      <th>parents_status</th>\n",
       "      <th>mother_education</th>\n",
       "      <th>father_education</th>\n",
       "      <th>mother_job</th>\n",
       "      <th>father_job</th>\n",
       "      <th>reason</th>\n",
       "      <th>guardian</th>\n",
       "      <th>travel_time</th>\n",
       "      <th>study_time</th>\n",
       "      <th>failures</th>\n",
       "      <th>school_support</th>\n",
       "      <th>family_support</th>\n",
       "      <th>paid</th>\n",
       "      <th>activities</th>\n",
       "      <th>nursery</th>\n",
       "      <th>studytime_granular</th>\n",
       "      <th>higher</th>\n",
       "      <th>internet</th>\n",
       "      <th>romantic</th>\n",
       "      <th>family_relationship</th>\n",
       "      <th>free_time</th>\n",
       "      <th>go_out</th>\n",
       "      <th>health</th>\n",
       "      <th>absences</th>\n",
       "      <th>score</th>\n",
       "    </tr>\n",
       "  </thead>\n",
       "  <tbody>\n",
       "    <tr>\n",
       "      <th>25</th>\n",
       "      <td>GP</td>\n",
       "      <td>F</td>\n",
       "      <td>16</td>\n",
       "      <td>U</td>\n",
       "      <td>GT3</td>\n",
       "      <td>NaN</td>\n",
       "      <td>2.0</td>\n",
       "      <td>2.0</td>\n",
       "      <td>services</td>\n",
       "      <td>services</td>\n",
       "      <td>home</td>\n",
       "      <td>mother</td>\n",
       "      <td>1.0</td>\n",
       "      <td>1.0</td>\n",
       "      <td>2.0</td>\n",
       "      <td>no</td>\n",
       "      <td>yes</td>\n",
       "      <td>yes</td>\n",
       "      <td>no</td>\n",
       "      <td>no</td>\n",
       "      <td>-3.0</td>\n",
       "      <td>yes</td>\n",
       "      <td>yes</td>\n",
       "      <td>no</td>\n",
       "      <td>-1.0</td>\n",
       "      <td>2.0</td>\n",
       "      <td>2.0</td>\n",
       "      <td>5.0</td>\n",
       "      <td>14.0</td>\n",
       "      <td>40.0</td>\n",
       "    </tr>\n",
       "  </tbody>\n",
       "</table>\n",
       "</div>"
      ],
      "text/plain": [
       "   school sex  age address family_size parents_status  mother_education  \\\n",
       "25     GP   F   16       U         GT3            NaN               2.0   \n",
       "\n",
       "    father_education mother_job father_job reason guardian  travel_time  \\\n",
       "25               2.0   services   services   home   mother          1.0   \n",
       "\n",
       "    study_time  failures school_support family_support paid activities  \\\n",
       "25         1.0       2.0             no            yes  yes         no   \n",
       "\n",
       "   nursery  studytime_granular higher internet romantic  family_relationship  \\\n",
       "25      no                -3.0    yes      yes       no                 -1.0   \n",
       "\n",
       "    free_time  go_out  health  absences  score  \n",
       "25        2.0     2.0     5.0      14.0   40.0  "
      ]
     },
     "execution_count": 27,
     "metadata": {},
     "output_type": "execute_result"
    }
   ],
   "source": [
    "# ищем строку с выбросом\n",
    "df[df.family_relationship < 1]"
   ]
  },
  {
   "cell_type": "code",
   "execution_count": 28,
   "id": "327b972b-b96b-4ba2-b0bb-df0d04c30e61",
   "metadata": {
    "tags": []
   },
   "outputs": [],
   "source": [
    "# заменяем выброс со значением меньше 1 на NaN\n",
    "df.loc[df['family_relationship'] < 1, 'family_relationship'] = np.nan"
   ]
  },
  {
   "cell_type": "code",
   "execution_count": 29,
   "id": "caec9695-00d4-42be-8eeb-f8a637fd4fcf",
   "metadata": {},
   "outputs": [
    {
     "data": {
      "text/html": [
       "<div>\n",
       "<style scoped>\n",
       "    .dataframe tbody tr th:only-of-type {\n",
       "        vertical-align: middle;\n",
       "    }\n",
       "\n",
       "    .dataframe tbody tr th {\n",
       "        vertical-align: top;\n",
       "    }\n",
       "\n",
       "    .dataframe thead th {\n",
       "        text-align: right;\n",
       "    }\n",
       "</style>\n",
       "<table border=\"1\" class=\"dataframe\">\n",
       "  <thead>\n",
       "    <tr style=\"text-align: right;\">\n",
       "      <th></th>\n",
       "      <th>school</th>\n",
       "      <th>sex</th>\n",
       "      <th>age</th>\n",
       "      <th>address</th>\n",
       "      <th>family_size</th>\n",
       "      <th>parents_status</th>\n",
       "      <th>mother_education</th>\n",
       "      <th>father_education</th>\n",
       "      <th>mother_job</th>\n",
       "      <th>father_job</th>\n",
       "      <th>reason</th>\n",
       "      <th>guardian</th>\n",
       "      <th>travel_time</th>\n",
       "      <th>study_time</th>\n",
       "      <th>failures</th>\n",
       "      <th>school_support</th>\n",
       "      <th>family_support</th>\n",
       "      <th>paid</th>\n",
       "      <th>activities</th>\n",
       "      <th>nursery</th>\n",
       "      <th>studytime_granular</th>\n",
       "      <th>higher</th>\n",
       "      <th>internet</th>\n",
       "      <th>romantic</th>\n",
       "      <th>family_relationship</th>\n",
       "      <th>free_time</th>\n",
       "      <th>go_out</th>\n",
       "      <th>health</th>\n",
       "      <th>absences</th>\n",
       "      <th>score</th>\n",
       "    </tr>\n",
       "  </thead>\n",
       "  <tbody>\n",
       "  </tbody>\n",
       "</table>\n",
       "</div>"
      ],
      "text/plain": [
       "Empty DataFrame\n",
       "Columns: [school, sex, age, address, family_size, parents_status, mother_education, father_education, mother_job, father_job, reason, guardian, travel_time, study_time, failures, school_support, family_support, paid, activities, nursery, studytime_granular, higher, internet, romantic, family_relationship, free_time, go_out, health, absences, score]\n",
       "Index: []"
      ]
     },
     "execution_count": 29,
     "metadata": {},
     "output_type": "execute_result"
    }
   ],
   "source": [
    "df[df.family_relationship < 1]"
   ]
  },
  {
   "cell_type": "code",
   "execution_count": 30,
   "id": "4ea0bb1d-d6eb-4f03-b830-04f418fcbeaf",
   "metadata": {},
   "outputs": [
    {
     "data": {
      "text/plain": [
       "<AxesSubplot:ylabel='Frequency'>"
      ]
     },
     "execution_count": 30,
     "metadata": {},
     "output_type": "execute_result"
    },
    {
     "data": {
      "image/png": "[encoded data removed]",
      "text/plain": [
       "<Figure size 432x288 with 1 Axes>"
      ]
     },
     "metadata": {
      "needs_background": "light"
     },
     "output_type": "display_data"
    }
   ],
   "source": [
    "df.family_relationship.plot.hist(bins=50)"
   ]
  },
  {
   "cell_type": "code",
   "execution_count": 31,
   "id": "b51313e0-6c85-4b59-b685-75d882c3bf88",
   "metadata": {},
   "outputs": [
    {
     "data": {
      "text/plain": [
       "<AxesSubplot:ylabel='Frequency'>"
      ]
     },
     "execution_count": 31,
     "metadata": {},
     "output_type": "execute_result"
    },
    {
     "data": {
      "image/png": "[encoded data removed]",
      "text/plain": [
       "<Figure size 432x288 with 1 Axes>"
      ]
     },
     "metadata": {
      "needs_background": "light"
     },
     "output_type": "display_data"
    }
   ],
   "source": [
    "df.free_time.plot.hist(bins=50)\n",
    "# ВЫВОД: все нормально"
   ]
  },
  {
   "cell_type": "code",
   "execution_count": 32,
   "id": "da005c94-d03f-408f-aabc-7b0d769fcee6",
   "metadata": {},
   "outputs": [
    {
     "data": {
      "text/plain": [
       "<AxesSubplot:ylabel='Frequency'>"
      ]
     },
     "execution_count": 32,
     "metadata": {},
     "output_type": "execute_result"
    },
    {
     "data": {
      "image/png": "[encoded data removed]",
      "text/plain": [
       "<Figure size 432x288 with 1 Axes>"
      ]
     },
     "metadata": {
      "needs_background": "light"
     },
     "output_type": "display_data"
    }
   ],
   "source": [
    "df.go_out.plot.hist(bins=50)\n",
    "# ВЫВОД: все нормально"
   ]
  },
  {
   "cell_type": "code",
   "execution_count": 33,
   "id": "a31b2fbc-5539-4546-b77f-270a8f25e62b",
   "metadata": {},
   "outputs": [
    {
     "data": {
      "text/plain": [
       "<AxesSubplot:ylabel='Frequency'>"
      ]
     },
     "execution_count": 33,
     "metadata": {},
     "output_type": "execute_result"
    },
    {
     "data": {
      "image/png": "[encoded data removed]",
      "text/plain": [
       "<Figure size 432x288 with 1 Axes>"
      ]
     },
     "metadata": {
      "needs_background": "light"
     },
     "output_type": "display_data"
    }
   ],
   "source": [
    "df.health.plot.hist(bins=50)\n",
    "# ВЫВОД: все нормально"
   ]
  },
  {
   "cell_type": "code",
   "execution_count": 34,
   "id": "56d4abd1-0f9c-434b-beca-2a250cf4ba28",
   "metadata": {},
   "outputs": [
    {
     "data": {
      "text/plain": [
       "<AxesSubplot:ylabel='Frequency'>"
      ]
     },
     "execution_count": 34,
     "metadata": {},
     "output_type": "execute_result"
    },
    {
     "data": {
      "image/png": "[encoded data removed]",
      "text/plain": [
       "<Figure size 432x288 with 1 Axes>"
      ]
     },
     "metadata": {
      "needs_background": "light"
     },
     "output_type": "display_data"
    }
   ],
   "source": [
    "df.absences.plot.hist(bins=50)\n",
    "# ВЫВОД: есть выбросы"
   ]
  },
  {
   "cell_type": "code",
   "execution_count": 35,
   "id": "84cd7743-2489-41d8-9c08-237fbc4f2f34",
   "metadata": {},
   "outputs": [
    {
     "data": {
      "text/plain": [
       "count    383.000000\n",
       "mean       7.279373\n",
       "std       23.465197\n",
       "min        0.000000\n",
       "25%        0.000000\n",
       "50%        4.000000\n",
       "75%        8.000000\n",
       "max      385.000000\n",
       "Name: absences, dtype: float64"
      ]
     },
     "execution_count": 35,
     "metadata": {},
     "output_type": "execute_result"
    }
   ],
   "source": [
    "# смотрим стат данные по absences\n",
    "df.absences.describe()"
   ]
  },
  {
   "cell_type": "code",
   "execution_count": 36,
   "id": "a5a95f11-2c90-4d4c-abb7-98685adbabc7",
   "metadata": {},
   "outputs": [
    {
     "data": {
      "text/plain": [
       "<AxesSubplot:xlabel='absences'>"
      ]
     },
     "execution_count": 36,
     "metadata": {},
     "output_type": "execute_result"
    },
    {
     "data": {
      "image/png": "[encoded data removed]",
      "text/plain": [
       "<Figure size 432x288 with 1 Axes>"
      ]
     },
     "metadata": {
      "needs_background": "light"
     },
     "output_type": "display_data"
    }
   ],
   "source": [
    "sns.boxplot(data=df, x='absences')"
   ]
  },
  {
   "cell_type": "code",
   "execution_count": 37,
   "id": "33234593-e819-4753-80bc-7d7498cd4675",
   "metadata": {},
   "outputs": [],
   "source": [
    "# отфильтровываем значение \"вне логики\" = больше чем дней в году = больше 365\n",
    "df = df[df.absences < 365]"
   ]
  },
  {
   "cell_type": "code",
   "execution_count": 38,
   "id": "bf06b4a6-4c92-4b5a-9f0c-d889d357f99b",
   "metadata": {},
   "outputs": [
    {
     "data": {
      "text/plain": [
       "<AxesSubplot:xlabel='absences'>"
      ]
     },
     "execution_count": 38,
     "metadata": {},
     "output_type": "execute_result"
    },
    {
     "data": {
      "image/png": "[encoded data removed]",
      "text/plain": [
       "<Figure size 432x288 with 1 Axes>"
      ]
     },
     "metadata": {
      "needs_background": "light"
     },
     "output_type": "display_data"
    }
   ],
   "source": [
    "sns.boxplot(data=df, x='absences')"
   ]
  },
  {
   "cell_type": "code",
   "execution_count": 39,
   "id": "1678f5b3-900d-4469-baee-c682f16daab8",
   "metadata": {
    "tags": []
   },
   "outputs": [],
   "source": [
    "# проверяем распределение absence на нормальность\n",
    "# тест Шапиро-Уилк print(‘Statistics=%.3f, p-value=%.3f’ % (stat, p))\n",
    "stat, p = scipy.stats.shapiro(df['absences'])\n",
    "alpha = 0.05"
   ]
  },
  {
   "cell_type": "code",
   "execution_count": 40,
   "id": "dee10fb5-7c32-4342-a613-61a3e226abc6",
   "metadata": {},
   "outputs": [
    {
     "data": {
      "text/plain": [
       "(0.37204742431640625, 3.3924323858462255e-34)"
      ]
     },
     "execution_count": 40,
     "metadata": {},
     "output_type": "execute_result"
    }
   ],
   "source": [
    "# p > alpha - гипоза о нормальности принята\n",
    "stat, p"
   ]
  },
  {
   "cell_type": "code",
   "execution_count": 41,
   "id": "279d8432-f87f-4d1f-9dae-7cb2def1aff8",
   "metadata": {},
   "outputs": [],
   "source": [
    "# находим строки со значениями absence бол3 стандартных отклонений и присваиваем им значение NaN\n",
    "df[((df.absences - df.absences.mean()) / df.absences.std()).abs() > 3] = np.nan"
   ]
  },
  {
   "cell_type": "code",
   "execution_count": 42,
   "id": "e23121cc-4fd4-4df8-81c0-a2438d1c8283",
   "metadata": {},
   "outputs": [
    {
     "data": {
      "text/plain": [
       "<AxesSubplot:xlabel='absences'>"
      ]
     },
     "execution_count": 42,
     "metadata": {},
     "output_type": "execute_result"
    },
    {
     "data": {
      "image/png": "[encoded data removed]",
      "text/plain": [
       "<Figure size 432x288 with 1 Axes>"
      ]
     },
     "metadata": {
      "needs_background": "light"
     },
     "output_type": "display_data"
    }
   ],
   "source": [
    "sns.boxplot(data=df, x='absences')"
   ]
  },
  {
   "cell_type": "code",
   "execution_count": 43,
   "id": "29377833-c582-4ee1-afb9-1eb7a0fa6b45",
   "metadata": {
    "tags": []
   },
   "outputs": [
    {
     "name": "stdout",
     "output_type": "stream",
     "text": [
      "внесены пропущенные данные для: age\n",
      "внесены пропущенные данные для: mother_education\n",
      "внесены пропущенные данные для: father_education\n",
      "внесены пропущенные данные для: travel_time\n",
      "внесены пропущенные данные для: study_time\n",
      "внесены пропущенные данные для: failures\n",
      "внесены пропущенные данные для: studytime_granular\n",
      "внесены пропущенные данные для: family_relationship\n",
      "внесены пропущенные данные для: free_time\n",
      "внесены пропущенные данные для: go_out\n",
      "внесены пропущенные данные для: health\n",
      "внесены пропущенные данные для: absences\n",
      "внесены пропущенные данные для: score\n"
     ]
    }
   ],
   "source": [
    "# замена пропусков на медиану для числовых признаков\n",
    "for col in numeric_cols:\n",
    "    missing = df[col].isnull()\n",
    "    num_missing = np.sum(missing)\n",
    "\n",
    "    if num_missing > 0:\n",
    "        print('внесены пропущенные данные для: {}'.format(col))\n",
    "        df['{}_inplaced'.format(col)] = missing\n",
    "        med = df[col].median()\n",
    "        df[col] = df[col].fillna(med)"
   ]
  },
  {
   "cell_type": "code",
   "execution_count": 44,
   "id": "ddf9c446-e956-4edf-a3e7-56df28e438f6",
   "metadata": {
    "tags": []
   },
   "outputs": [
    {
     "data": {
      "text/plain": [
       "school                  4\n",
       "sex                     4\n",
       "age                     0\n",
       "address                19\n",
       "family_size            28\n",
       "parents_status         46\n",
       "mother_education        0\n",
       "father_education        0\n",
       "mother_job             22\n",
       "father_job             39\n",
       "reason                 21\n",
       "guardian               34\n",
       "travel_time             0\n",
       "study_time              0\n",
       "failures                0\n",
       "school_support         13\n",
       "family_support         41\n",
       "paid                   43\n",
       "activities             18\n",
       "nursery                20\n",
       "studytime_granular      0\n",
       "higher                 23\n",
       "internet               37\n",
       "romantic               35\n",
       "family_relationship     0\n",
       "free_time               0\n",
       "go_out                  0\n",
       "health                  0\n",
       "absences                0\n",
       "score                   0\n",
       "dtype: int64"
      ]
     },
     "execution_count": 44,
     "metadata": {},
     "output_type": "execute_result"
    }
   ],
   "source": [
    "df.isnull().sum().head(30)"
   ]
  },
  {
   "cell_type": "markdown",
   "id": "2246756a-162c-4422-93eb-4afdf8900612",
   "metadata": {},
   "source": [
    "### КОРРЕЛЯЦИОННЫЙ АНАЛИЗ"
   ]
  },
  {
   "cell_type": "code",
   "execution_count": 45,
   "id": "e1208a8b-407c-4e84-a869-935032590bc5",
   "metadata": {
    "scrolled": true
   },
   "outputs": [
    {
     "data": {
      "text/plain": [
       "<seaborn.axisgrid.PairGrid at 0x7fd40f92bb50>"
      ]
     },
     "execution_count": 45,
     "metadata": {},
     "output_type": "execute_result"
    },
    {
     "data": {
      "image/png": "[encoded data removed]",
      "text/plain": [
       "<Figure size 1080x1260 with 42 Axes>"
      ]
     },
     "metadata": {
      "needs_background": "light"
     },
     "output_type": "display_data"
    }
   ],
   "source": [
    "sns.pairplot(df, x_vars=['score', 'age', 'mother_education', 'father_education',\n",
    "                         'travel_time', 'study_time', ], y_vars=['failures', 'studytime_granular',\n",
    "                                                                 'family_relationship', 'free_time',\n",
    "                                                                 'go_out', 'health', 'absences'], kind='reg')"
   ]
  },
  {
   "cell_type": "code",
   "execution_count": 46,
   "id": "e0d98d4a",
   "metadata": {},
   "outputs": [
    {
     "data": {
      "text/html": [
       "<div>\n",
       "<style scoped>\n",
       "    .dataframe tbody tr th:only-of-type {\n",
       "        vertical-align: middle;\n",
       "    }\n",
       "\n",
       "    .dataframe tbody tr th {\n",
       "        vertical-align: top;\n",
       "    }\n",
       "\n",
       "    .dataframe thead th {\n",
       "        text-align: right;\n",
       "    }\n",
       "</style>\n",
       "<table border=\"1\" class=\"dataframe\">\n",
       "  <thead>\n",
       "    <tr style=\"text-align: right;\">\n",
       "      <th></th>\n",
       "      <th>age</th>\n",
       "      <th>mother_education</th>\n",
       "      <th>father_education</th>\n",
       "      <th>travel_time</th>\n",
       "      <th>study_time</th>\n",
       "      <th>failures</th>\n",
       "      <th>studytime_granular</th>\n",
       "      <th>family_relationship</th>\n",
       "      <th>free_time</th>\n",
       "      <th>go_out</th>\n",
       "      <th>health</th>\n",
       "      <th>absences</th>\n",
       "      <th>score</th>\n",
       "      <th>age_inplaced</th>\n",
       "      <th>mother_education_inplaced</th>\n",
       "      <th>father_education_inplaced</th>\n",
       "      <th>travel_time_inplaced</th>\n",
       "      <th>study_time_inplaced</th>\n",
       "      <th>failures_inplaced</th>\n",
       "      <th>studytime_granular_inplaced</th>\n",
       "      <th>family_relationship_inplaced</th>\n",
       "      <th>free_time_inplaced</th>\n",
       "      <th>go_out_inplaced</th>\n",
       "      <th>health_inplaced</th>\n",
       "      <th>absences_inplaced</th>\n",
       "      <th>score_inplaced</th>\n",
       "    </tr>\n",
       "  </thead>\n",
       "  <tbody>\n",
       "    <tr>\n",
       "      <th>age</th>\n",
       "      <td>1.000000</td>\n",
       "      <td>-0.162253</td>\n",
       "      <td>-0.147727</td>\n",
       "      <td>0.084915</td>\n",
       "      <td>-0.002298</td>\n",
       "      <td>0.198888</td>\n",
       "      <td>0.002298</td>\n",
       "      <td>0.051533</td>\n",
       "      <td>0.023231</td>\n",
       "      <td>0.118697</td>\n",
       "      <td>-0.071056</td>\n",
       "      <td>0.188900</td>\n",
       "      <td>-0.144249</td>\n",
       "      <td>0.025771</td>\n",
       "      <td>0.018791</td>\n",
       "      <td>-0.029815</td>\n",
       "      <td>-0.028876</td>\n",
       "      <td>0.011614</td>\n",
       "      <td>-0.063830</td>\n",
       "      <td>0.011614</td>\n",
       "      <td>0.006213</td>\n",
       "      <td>0.070902</td>\n",
       "      <td>0.033247</td>\n",
       "      <td>0.028745</td>\n",
       "      <td>0.025771</td>\n",
       "      <td>0.107168</td>\n",
       "    </tr>\n",
       "    <tr>\n",
       "      <th>mother_education</th>\n",
       "      <td>-0.162253</td>\n",
       "      <td>1.000000</td>\n",
       "      <td>0.601607</td>\n",
       "      <td>-0.174623</td>\n",
       "      <td>0.065059</td>\n",
       "      <td>-0.236606</td>\n",
       "      <td>-0.065059</td>\n",
       "      <td>-0.032414</td>\n",
       "      <td>0.014850</td>\n",
       "      <td>0.058368</td>\n",
       "      <td>-0.061608</td>\n",
       "      <td>0.108359</td>\n",
       "      <td>0.198933</td>\n",
       "      <td>0.022212</td>\n",
       "      <td>0.029501</td>\n",
       "      <td>0.052831</td>\n",
       "      <td>-0.021310</td>\n",
       "      <td>0.001905</td>\n",
       "      <td>0.067879</td>\n",
       "      <td>0.001905</td>\n",
       "      <td>-0.006118</td>\n",
       "      <td>-0.008958</td>\n",
       "      <td>-0.016130</td>\n",
       "      <td>-0.083027</td>\n",
       "      <td>0.022212</td>\n",
       "      <td>-0.093002</td>\n",
       "    </tr>\n",
       "    <tr>\n",
       "      <th>father_education</th>\n",
       "      <td>-0.147727</td>\n",
       "      <td>0.601607</td>\n",
       "      <td>1.000000</td>\n",
       "      <td>-0.126292</td>\n",
       "      <td>-0.012923</td>\n",
       "      <td>-0.252344</td>\n",
       "      <td>0.012923</td>\n",
       "      <td>-0.040963</td>\n",
       "      <td>-0.028458</td>\n",
       "      <td>0.037428</td>\n",
       "      <td>0.003412</td>\n",
       "      <td>0.041942</td>\n",
       "      <td>0.104286</td>\n",
       "      <td>-0.044938</td>\n",
       "      <td>-0.059685</td>\n",
       "      <td>-0.125211</td>\n",
       "      <td>-0.042498</td>\n",
       "      <td>-0.067858</td>\n",
       "      <td>0.010062</td>\n",
       "      <td>-0.067858</td>\n",
       "      <td>-0.038929</td>\n",
       "      <td>-0.085206</td>\n",
       "      <td>-0.050213</td>\n",
       "      <td>-0.122778</td>\n",
       "      <td>-0.044938</td>\n",
       "      <td>-0.100587</td>\n",
       "    </tr>\n",
       "    <tr>\n",
       "      <th>travel_time</th>\n",
       "      <td>0.084915</td>\n",
       "      <td>-0.174623</td>\n",
       "      <td>-0.126292</td>\n",
       "      <td>1.000000</td>\n",
       "      <td>-0.098553</td>\n",
       "      <td>0.065575</td>\n",
       "      <td>0.098553</td>\n",
       "      <td>-0.030472</td>\n",
       "      <td>-0.000618</td>\n",
       "      <td>0.056654</td>\n",
       "      <td>-0.039807</td>\n",
       "      <td>-0.000805</td>\n",
       "      <td>-0.059135</td>\n",
       "      <td>-0.062217</td>\n",
       "      <td>-0.082634</td>\n",
       "      <td>-0.086640</td>\n",
       "      <td>-0.182880</td>\n",
       "      <td>-0.043473</td>\n",
       "      <td>0.003740</td>\n",
       "      <td>-0.043473</td>\n",
       "      <td>-0.067596</td>\n",
       "      <td>0.004266</td>\n",
       "      <td>-0.108922</td>\n",
       "      <td>-0.032726</td>\n",
       "      <td>-0.062217</td>\n",
       "      <td>0.007003</td>\n",
       "    </tr>\n",
       "    <tr>\n",
       "      <th>study_time</th>\n",
       "      <td>-0.002298</td>\n",
       "      <td>0.065059</td>\n",
       "      <td>-0.012923</td>\n",
       "      <td>-0.098553</td>\n",
       "      <td>1.000000</td>\n",
       "      <td>-0.157423</td>\n",
       "      <td>-1.000000</td>\n",
       "      <td>0.020554</td>\n",
       "      <td>-0.123478</td>\n",
       "      <td>-0.047281</td>\n",
       "      <td>-0.077999</td>\n",
       "      <td>-0.083029</td>\n",
       "      <td>0.107929</td>\n",
       "      <td>-0.005131</td>\n",
       "      <td>-0.030060</td>\n",
       "      <td>0.044556</td>\n",
       "      <td>-0.015083</td>\n",
       "      <td>-0.007748</td>\n",
       "      <td>-0.038238</td>\n",
       "      <td>-0.007748</td>\n",
       "      <td>-0.026241</td>\n",
       "      <td>0.006863</td>\n",
       "      <td>0.026763</td>\n",
       "      <td>0.045949</td>\n",
       "      <td>-0.005131</td>\n",
       "      <td>0.012806</td>\n",
       "    </tr>\n",
       "    <tr>\n",
       "      <th>failures</th>\n",
       "      <td>0.198888</td>\n",
       "      <td>-0.236606</td>\n",
       "      <td>-0.252344</td>\n",
       "      <td>0.065575</td>\n",
       "      <td>-0.157423</td>\n",
       "      <td>1.000000</td>\n",
       "      <td>0.157423</td>\n",
       "      <td>0.015653</td>\n",
       "      <td>0.093467</td>\n",
       "      <td>0.087438</td>\n",
       "      <td>0.065653</td>\n",
       "      <td>0.115298</td>\n",
       "      <td>-0.312805</td>\n",
       "      <td>-0.044641</td>\n",
       "      <td>-0.031871</td>\n",
       "      <td>-0.013304</td>\n",
       "      <td>0.014804</td>\n",
       "      <td>0.005332</td>\n",
       "      <td>-0.117278</td>\n",
       "      <td>0.005332</td>\n",
       "      <td>0.005712</td>\n",
       "      <td>-0.045498</td>\n",
       "      <td>-0.035986</td>\n",
       "      <td>-0.031618</td>\n",
       "      <td>-0.044641</td>\n",
       "      <td>0.029579</td>\n",
       "    </tr>\n",
       "    <tr>\n",
       "      <th>studytime_granular</th>\n",
       "      <td>0.002298</td>\n",
       "      <td>-0.065059</td>\n",
       "      <td>0.012923</td>\n",
       "      <td>0.098553</td>\n",
       "      <td>-1.000000</td>\n",
       "      <td>0.157423</td>\n",
       "      <td>1.000000</td>\n",
       "      <td>-0.020554</td>\n",
       "      <td>0.123478</td>\n",
       "      <td>0.047281</td>\n",
       "      <td>0.077999</td>\n",
       "      <td>0.083029</td>\n",
       "      <td>-0.107929</td>\n",
       "      <td>0.005131</td>\n",
       "      <td>0.030060</td>\n",
       "      <td>-0.044556</td>\n",
       "      <td>0.015083</td>\n",
       "      <td>0.007748</td>\n",
       "      <td>0.038238</td>\n",
       "      <td>0.007748</td>\n",
       "      <td>0.026241</td>\n",
       "      <td>-0.006863</td>\n",
       "      <td>-0.026763</td>\n",
       "      <td>-0.045949</td>\n",
       "      <td>0.005131</td>\n",
       "      <td>-0.012806</td>\n",
       "    </tr>\n",
       "    <tr>\n",
       "      <th>family_relationship</th>\n",
       "      <td>0.051533</td>\n",
       "      <td>-0.032414</td>\n",
       "      <td>-0.040963</td>\n",
       "      <td>-0.030472</td>\n",
       "      <td>0.020554</td>\n",
       "      <td>0.015653</td>\n",
       "      <td>-0.020554</td>\n",
       "      <td>1.000000</td>\n",
       "      <td>0.158542</td>\n",
       "      <td>0.071592</td>\n",
       "      <td>0.102595</td>\n",
       "      <td>-0.073342</td>\n",
       "      <td>0.055843</td>\n",
       "      <td>0.004732</td>\n",
       "      <td>0.006284</td>\n",
       "      <td>0.001606</td>\n",
       "      <td>-0.008229</td>\n",
       "      <td>0.027362</td>\n",
       "      <td>0.073306</td>\n",
       "      <td>0.027362</td>\n",
       "      <td>0.013669</td>\n",
       "      <td>0.025291</td>\n",
       "      <td>-0.044454</td>\n",
       "      <td>0.038732</td>\n",
       "      <td>0.004732</td>\n",
       "      <td>0.047578</td>\n",
       "    </tr>\n",
       "    <tr>\n",
       "      <th>free_time</th>\n",
       "      <td>0.023231</td>\n",
       "      <td>0.014850</td>\n",
       "      <td>-0.028458</td>\n",
       "      <td>-0.000618</td>\n",
       "      <td>-0.123478</td>\n",
       "      <td>0.093467</td>\n",
       "      <td>0.123478</td>\n",
       "      <td>0.158542</td>\n",
       "      <td>1.000000</td>\n",
       "      <td>0.288988</td>\n",
       "      <td>0.052761</td>\n",
       "      <td>-0.016621</td>\n",
       "      <td>0.011682</td>\n",
       "      <td>-0.023511</td>\n",
       "      <td>0.008869</td>\n",
       "      <td>0.036009</td>\n",
       "      <td>-0.059402</td>\n",
       "      <td>-0.017774</td>\n",
       "      <td>-0.008384</td>\n",
       "      <td>-0.017774</td>\n",
       "      <td>-0.008841</td>\n",
       "      <td>-0.044578</td>\n",
       "      <td>-0.025745</td>\n",
       "      <td>0.021919</td>\n",
       "      <td>-0.023511</td>\n",
       "      <td>0.035409</td>\n",
       "    </tr>\n",
       "    <tr>\n",
       "      <th>go_out</th>\n",
       "      <td>0.118697</td>\n",
       "      <td>0.058368</td>\n",
       "      <td>0.037428</td>\n",
       "      <td>0.056654</td>\n",
       "      <td>-0.047281</td>\n",
       "      <td>0.087438</td>\n",
       "      <td>0.047281</td>\n",
       "      <td>0.071592</td>\n",
       "      <td>0.288988</td>\n",
       "      <td>1.000000</td>\n",
       "      <td>-0.005451</td>\n",
       "      <td>0.106733</td>\n",
       "      <td>-0.132593</td>\n",
       "      <td>-0.008906</td>\n",
       "      <td>-0.011829</td>\n",
       "      <td>0.002424</td>\n",
       "      <td>-0.086945</td>\n",
       "      <td>-0.013449</td>\n",
       "      <td>0.014798</td>\n",
       "      <td>-0.013449</td>\n",
       "      <td>0.009499</td>\n",
       "      <td>-0.068084</td>\n",
       "      <td>-0.015592</td>\n",
       "      <td>0.002317</td>\n",
       "      <td>-0.008906</td>\n",
       "      <td>0.034120</td>\n",
       "    </tr>\n",
       "    <tr>\n",
       "      <th>health</th>\n",
       "      <td>-0.071056</td>\n",
       "      <td>-0.061608</td>\n",
       "      <td>0.003412</td>\n",
       "      <td>-0.039807</td>\n",
       "      <td>-0.077999</td>\n",
       "      <td>0.065653</td>\n",
       "      <td>0.077999</td>\n",
       "      <td>0.102595</td>\n",
       "      <td>0.052761</td>\n",
       "      <td>-0.005451</td>\n",
       "      <td>1.000000</td>\n",
       "      <td>-0.045520</td>\n",
       "      <td>-0.059708</td>\n",
       "      <td>0.033566</td>\n",
       "      <td>0.001394</td>\n",
       "      <td>0.086235</td>\n",
       "      <td>0.154417</td>\n",
       "      <td>0.012496</td>\n",
       "      <td>0.011519</td>\n",
       "      <td>0.012496</td>\n",
       "      <td>0.104042</td>\n",
       "      <td>0.022542</td>\n",
       "      <td>-0.007650</td>\n",
       "      <td>0.074651</td>\n",
       "      <td>0.033566</td>\n",
       "      <td>0.012496</td>\n",
       "    </tr>\n",
       "    <tr>\n",
       "      <th>absences</th>\n",
       "      <td>0.188900</td>\n",
       "      <td>0.108359</td>\n",
       "      <td>0.041942</td>\n",
       "      <td>-0.000805</td>\n",
       "      <td>-0.083029</td>\n",
       "      <td>0.115298</td>\n",
       "      <td>0.083029</td>\n",
       "      <td>-0.073342</td>\n",
       "      <td>-0.016621</td>\n",
       "      <td>0.106733</td>\n",
       "      <td>-0.045520</td>\n",
       "      <td>1.000000</td>\n",
       "      <td>0.057389</td>\n",
       "      <td>-0.021127</td>\n",
       "      <td>-0.028060</td>\n",
       "      <td>0.029035</td>\n",
       "      <td>-0.069604</td>\n",
       "      <td>-0.004492</td>\n",
       "      <td>0.028685</td>\n",
       "      <td>-0.004492</td>\n",
       "      <td>-0.009271</td>\n",
       "      <td>0.074997</td>\n",
       "      <td>-0.027453</td>\n",
       "      <td>-0.052724</td>\n",
       "      <td>-0.021127</td>\n",
       "      <td>-0.029161</td>\n",
       "    </tr>\n",
       "    <tr>\n",
       "      <th>score</th>\n",
       "      <td>-0.144249</td>\n",
       "      <td>0.198933</td>\n",
       "      <td>0.104286</td>\n",
       "      <td>-0.059135</td>\n",
       "      <td>0.107929</td>\n",
       "      <td>-0.312805</td>\n",
       "      <td>-0.107929</td>\n",
       "      <td>0.055843</td>\n",
       "      <td>0.011682</td>\n",
       "      <td>-0.132593</td>\n",
       "      <td>-0.059708</td>\n",
       "      <td>0.057389</td>\n",
       "      <td>1.000000</td>\n",
       "      <td>0.013297</td>\n",
       "      <td>-0.055811</td>\n",
       "      <td>0.008599</td>\n",
       "      <td>-0.046700</td>\n",
       "      <td>0.054475</td>\n",
       "      <td>0.055648</td>\n",
       "      <td>0.054475</td>\n",
       "      <td>-0.006163</td>\n",
       "      <td>0.040638</td>\n",
       "      <td>-0.026568</td>\n",
       "      <td>-0.050416</td>\n",
       "      <td>0.013297</td>\n",
       "      <td>0.020079</td>\n",
       "    </tr>\n",
       "  </tbody>\n",
       "</table>\n",
       "</div>"
      ],
      "text/plain": [
       "                          age  mother_education  father_education  \\\n",
       "age                  1.000000         -0.162253         -0.147727   \n",
       "mother_education    -0.162253          1.000000          0.601607   \n",
       "father_education    -0.147727          0.601607          1.000000   \n",
       "travel_time          0.084915         -0.174623         -0.126292   \n",
       "study_time          -0.002298          0.065059         -0.012923   \n",
       "failures             0.198888         -0.236606         -0.252344   \n",
       "studytime_granular   0.002298         -0.065059          0.012923   \n",
       "family_relationship  0.051533         -0.032414         -0.040963   \n",
       "free_time            0.023231          0.014850         -0.028458   \n",
       "go_out               0.118697          0.058368          0.037428   \n",
       "health              -0.071056         -0.061608          0.003412   \n",
       "absences             0.188900          0.108359          0.041942   \n",
       "score               -0.144249          0.198933          0.104286   \n",
       "\n",
       "                     travel_time  study_time  failures  studytime_granular  \\\n",
       "age                     0.084915   -0.002298  0.198888            0.002298   \n",
       "mother_education       -0.174623    0.065059 -0.236606           -0.065059   \n",
       "father_education       -0.126292   -0.012923 -0.252344            0.012923   \n",
       "travel_time             1.000000   -0.098553  0.065575            0.098553   \n",
       "study_time             -0.098553    1.000000 -0.157423           -1.000000   \n",
       "failures                0.065575   -0.157423  1.000000            0.157423   \n",
       "studytime_granular      0.098553   -1.000000  0.157423            1.000000   \n",
       "family_relationship    -0.030472    0.020554  0.015653           -0.020554   \n",
       "free_time              -0.000618   -0.123478  0.093467            0.123478   \n",
       "go_out                  0.056654   -0.047281  0.087438            0.047281   \n",
       "health                 -0.039807   -0.077999  0.065653            0.077999   \n",
       "absences               -0.000805   -0.083029  0.115298            0.083029   \n",
       "score                  -0.059135    0.107929 -0.312805           -0.107929   \n",
       "\n",
       "                     family_relationship  free_time    go_out    health  \\\n",
       "age                             0.051533   0.023231  0.118697 -0.071056   \n",
       "mother_education               -0.032414   0.014850  0.058368 -0.061608   \n",
       "father_education               -0.040963  -0.028458  0.037428  0.003412   \n",
       "travel_time                    -0.030472  -0.000618  0.056654 -0.039807   \n",
       "study_time                      0.020554  -0.123478 -0.047281 -0.077999   \n",
       "failures                        0.015653   0.093467  0.087438  0.065653   \n",
       "studytime_granular             -0.020554   0.123478  0.047281  0.077999   \n",
       "family_relationship             1.000000   0.158542  0.071592  0.102595   \n",
       "free_time                       0.158542   1.000000  0.288988  0.052761   \n",
       "go_out                          0.071592   0.288988  1.000000 -0.005451   \n",
       "health                          0.102595   0.052761 -0.005451  1.000000   \n",
       "absences                       -0.073342  -0.016621  0.106733 -0.045520   \n",
       "score                           0.055843   0.011682 -0.132593 -0.059708   \n",
       "\n",
       "                     absences     score  age_inplaced  \\\n",
       "age                  0.188900 -0.144249      0.025771   \n",
       "mother_education     0.108359  0.198933      0.022212   \n",
       "father_education     0.041942  0.104286     -0.044938   \n",
       "travel_time         -0.000805 -0.059135     -0.062217   \n",
       "study_time          -0.083029  0.107929     -0.005131   \n",
       "failures             0.115298 -0.312805     -0.044641   \n",
       "studytime_granular   0.083029 -0.107929      0.005131   \n",
       "family_relationship -0.073342  0.055843      0.004732   \n",
       "free_time           -0.016621  0.011682     -0.023511   \n",
       "go_out               0.106733 -0.132593     -0.008906   \n",
       "health              -0.045520 -0.059708      0.033566   \n",
       "absences             1.000000  0.057389     -0.021127   \n",
       "score                0.057389  1.000000      0.013297   \n",
       "\n",
       "                     mother_education_inplaced  father_education_inplaced  \\\n",
       "age                                   0.018791                  -0.029815   \n",
       "mother_education                      0.029501                   0.052831   \n",
       "father_education                     -0.059685                  -0.125211   \n",
       "travel_time                          -0.082634                  -0.086640   \n",
       "study_time                           -0.030060                   0.044556   \n",
       "failures                             -0.031871                  -0.013304   \n",
       "studytime_granular                    0.030060                  -0.044556   \n",
       "family_relationship                   0.006284                   0.001606   \n",
       "free_time                             0.008869                   0.036009   \n",
       "go_out                               -0.011829                   0.002424   \n",
       "health                                0.001394                   0.086235   \n",
       "absences                             -0.028060                   0.029035   \n",
       "score                                -0.055811                   0.008599   \n",
       "\n",
       "                     travel_time_inplaced  study_time_inplaced  \\\n",
       "age                             -0.028876             0.011614   \n",
       "mother_education                -0.021310             0.001905   \n",
       "father_education                -0.042498            -0.067858   \n",
       "travel_time                     -0.182880            -0.043473   \n",
       "study_time                      -0.015083            -0.007748   \n",
       "failures                         0.014804             0.005332   \n",
       "studytime_granular               0.015083             0.007748   \n",
       "family_relationship             -0.008229             0.027362   \n",
       "free_time                       -0.059402            -0.017774   \n",
       "go_out                          -0.086945            -0.013449   \n",
       "health                           0.154417             0.012496   \n",
       "absences                        -0.069604            -0.004492   \n",
       "score                           -0.046700             0.054475   \n",
       "\n",
       "                     failures_inplaced  studytime_granular_inplaced  \\\n",
       "age                          -0.063830                     0.011614   \n",
       "mother_education              0.067879                     0.001905   \n",
       "father_education              0.010062                    -0.067858   \n",
       "travel_time                   0.003740                    -0.043473   \n",
       "study_time                   -0.038238                    -0.007748   \n",
       "failures                     -0.117278                     0.005332   \n",
       "studytime_granular            0.038238                     0.007748   \n",
       "family_relationship           0.073306                     0.027362   \n",
       "free_time                    -0.008384                    -0.017774   \n",
       "go_out                        0.014798                    -0.013449   \n",
       "health                        0.011519                     0.012496   \n",
       "absences                      0.028685                    -0.004492   \n",
       "score                         0.055648                     0.054475   \n",
       "\n",
       "                     family_relationship_inplaced  free_time_inplaced  \\\n",
       "age                                      0.006213            0.070902   \n",
       "mother_education                        -0.006118           -0.008958   \n",
       "father_education                        -0.038929           -0.085206   \n",
       "travel_time                             -0.067596            0.004266   \n",
       "study_time                              -0.026241            0.006863   \n",
       "failures                                 0.005712           -0.045498   \n",
       "studytime_granular                       0.026241           -0.006863   \n",
       "family_relationship                      0.013669            0.025291   \n",
       "free_time                               -0.008841           -0.044578   \n",
       "go_out                                   0.009499           -0.068084   \n",
       "health                                   0.104042            0.022542   \n",
       "absences                                -0.009271            0.074997   \n",
       "score                                   -0.006163            0.040638   \n",
       "\n",
       "                     go_out_inplaced  health_inplaced  absences_inplaced  \\\n",
       "age                         0.033247         0.028745           0.025771   \n",
       "mother_education           -0.016130        -0.083027           0.022212   \n",
       "father_education           -0.050213        -0.122778          -0.044938   \n",
       "travel_time                -0.108922        -0.032726          -0.062217   \n",
       "study_time                  0.026763         0.045949          -0.005131   \n",
       "failures                   -0.035986        -0.031618          -0.044641   \n",
       "studytime_granular         -0.026763        -0.045949           0.005131   \n",
       "family_relationship        -0.044454         0.038732           0.004732   \n",
       "free_time                  -0.025745         0.021919          -0.023511   \n",
       "go_out                     -0.015592         0.002317          -0.008906   \n",
       "health                     -0.007650         0.074651           0.033566   \n",
       "absences                   -0.027453        -0.052724          -0.021127   \n",
       "score                      -0.026568        -0.050416           0.013297   \n",
       "\n",
       "                     score_inplaced  \n",
       "age                        0.107168  \n",
       "mother_education          -0.093002  \n",
       "father_education          -0.100587  \n",
       "travel_time                0.007003  \n",
       "study_time                 0.012806  \n",
       "failures                   0.029579  \n",
       "studytime_granular        -0.012806  \n",
       "family_relationship        0.047578  \n",
       "free_time                  0.035409  \n",
       "go_out                     0.034120  \n",
       "health                     0.012496  \n",
       "absences                  -0.029161  \n",
       "score                      0.020079  "
      ]
     },
     "execution_count": 46,
     "metadata": {},
     "output_type": "execute_result"
    }
   ],
   "source": [
    "df.corr().head(13)"
   ]
  },
  {
   "cell_type": "code",
   "execution_count": 47,
   "id": "f7023fec",
   "metadata": {},
   "outputs": [
    {
     "data": {
      "text/plain": [
       "<AxesSubplot:xlabel='study_time', ylabel='studytime_granular'>"
      ]
     },
     "execution_count": 47,
     "metadata": {},
     "output_type": "execute_result"
    },
    {
     "data": {
      "image/png": "[encoded data removed]",
      "text/plain": [
       "<Figure size 432x288 with 1 Axes>"
      ]
     },
     "metadata": {
      "needs_background": "light"
     },
     "output_type": "display_data"
    }
   ],
   "source": [
    "sns.lineplot(data=df, x=\"study_time\", y=\"studytime_granular\")\n",
    "# ВЫВОД: у параметров studytime и studytime_granular идеальная обратная (отрицательная) кореляция,\n",
    "# параметр studytime_granulat можно исключить"
   ]
  },
  {
   "cell_type": "markdown",
   "id": "3a4570c5-40ea-4264-b193-cac4b741a700",
   "metadata": {
    "tags": []
   },
   "source": [
    "### НОМИНАТИВНЫЕ ПРИЗНАКИ"
   ]
  },
  {
   "cell_type": "code",
   "execution_count": 48,
   "id": "613a0e2a-59a3-4b31-b2d9-b8b735cb212f",
   "metadata": {
    "tags": []
   },
   "outputs": [
    {
     "data": {
      "text/plain": [
       "school                  object\n",
       "sex                     object\n",
       "age                    float64\n",
       "address                 object\n",
       "family_size             object\n",
       "parents_status          object\n",
       "mother_education       float64\n",
       "father_education       float64\n",
       "mother_job              object\n",
       "father_job              object\n",
       "reason                  object\n",
       "guardian                object\n",
       "travel_time            float64\n",
       "study_time             float64\n",
       "failures               float64\n",
       "school_support          object\n",
       "family_support          object\n",
       "paid                    object\n",
       "activities              object\n",
       "nursery                 object\n",
       "studytime_granular     float64\n",
       "higher                  object\n",
       "internet                object\n",
       "romantic                object\n",
       "family_relationship    float64\n",
       "free_time              float64\n",
       "go_out                 float64\n",
       "health                 float64\n",
       "absences               float64\n",
       "score                  float64\n",
       "dtype: object"
      ]
     },
     "execution_count": 48,
     "metadata": {},
     "output_type": "execute_result"
    }
   ],
   "source": [
    "df.dtypes.head(30)"
   ]
  },
  {
   "cell_type": "code",
   "execution_count": 49,
   "id": "7286ca59-c14d-4e03-bb62-824635dec60f",
   "metadata": {
    "tags": []
   },
   "outputs": [],
   "source": [
    "# функция оценки номинативных переменных\n",
    "def info_column(x, n):\n",
    "    series_x = pd.DataFrame(df[x].value_counts())\n",
    "    frequent = (df[x].value_counts() > n).sum()\n",
    "    uniqe = df[x].nunique()\n",
    "    display(series_x)\n",
    "    print(f'Значений, встретившихся в столбце более {n} раз:', frequent)\n",
    "    print('Уникальных значений:', uniqe)"
   ]
  },
  {
   "cell_type": "code",
   "execution_count": 50,
   "id": "e7aca271-432b-4e9a-bdac-dc8ec7e394d8",
   "metadata": {},
   "outputs": [
    {
     "data": {
      "text/html": [
       "<div>\n",
       "<style scoped>\n",
       "    .dataframe tbody tr th:only-of-type {\n",
       "        vertical-align: middle;\n",
       "    }\n",
       "\n",
       "    .dataframe tbody tr th {\n",
       "        vertical-align: top;\n",
       "    }\n",
       "\n",
       "    .dataframe thead th {\n",
       "        text-align: right;\n",
       "    }\n",
       "</style>\n",
       "<table border=\"1\" class=\"dataframe\">\n",
       "  <thead>\n",
       "    <tr style=\"text-align: right;\">\n",
       "      <th></th>\n",
       "      <th>school</th>\n",
       "    </tr>\n",
       "  </thead>\n",
       "  <tbody>\n",
       "    <tr>\n",
       "      <th>GP</th>\n",
       "      <td>334</td>\n",
       "    </tr>\n",
       "    <tr>\n",
       "      <th>MS</th>\n",
       "      <td>44</td>\n",
       "    </tr>\n",
       "  </tbody>\n",
       "</table>\n",
       "</div>"
      ],
      "text/plain": [
       "    school\n",
       "GP     334\n",
       "MS      44"
      ]
     },
     "metadata": {},
     "output_type": "display_data"
    },
    {
     "name": "stdout",
     "output_type": "stream",
     "text": [
      "Значений, встретившихся в столбце более 10 раз: 2\n",
      "Уникальных значений: 2\n"
     ]
    }
   ],
   "source": [
    "info_column('school', 10)"
   ]
  },
  {
   "cell_type": "code",
   "execution_count": 51,
   "id": "284ba9cc-4cec-44ac-a765-9aeecdcd4986",
   "metadata": {},
   "outputs": [
    {
     "data": {
      "text/html": [
       "<div>\n",
       "<style scoped>\n",
       "    .dataframe tbody tr th:only-of-type {\n",
       "        vertical-align: middle;\n",
       "    }\n",
       "\n",
       "    .dataframe tbody tr th {\n",
       "        vertical-align: top;\n",
       "    }\n",
       "\n",
       "    .dataframe thead th {\n",
       "        text-align: right;\n",
       "    }\n",
       "</style>\n",
       "<table border=\"1\" class=\"dataframe\">\n",
       "  <thead>\n",
       "    <tr style=\"text-align: right;\">\n",
       "      <th></th>\n",
       "      <th>sex</th>\n",
       "    </tr>\n",
       "  </thead>\n",
       "  <tbody>\n",
       "    <tr>\n",
       "      <th>F</th>\n",
       "      <td>200</td>\n",
       "    </tr>\n",
       "    <tr>\n",
       "      <th>M</th>\n",
       "      <td>178</td>\n",
       "    </tr>\n",
       "  </tbody>\n",
       "</table>\n",
       "</div>"
      ],
      "text/plain": [
       "   sex\n",
       "F  200\n",
       "M  178"
      ]
     },
     "metadata": {},
     "output_type": "display_data"
    },
    {
     "name": "stdout",
     "output_type": "stream",
     "text": [
      "Значений, встретившихся в столбце более 10 раз: 2\n",
      "Уникальных значений: 2\n"
     ]
    }
   ],
   "source": [
    "info_column('sex', 10)"
   ]
  },
  {
   "cell_type": "code",
   "execution_count": 52,
   "id": "8ce1a991-5f87-4d5c-9d96-2babc39eeb67",
   "metadata": {},
   "outputs": [
    {
     "data": {
      "text/html": [
       "<div>\n",
       "<style scoped>\n",
       "    .dataframe tbody tr th:only-of-type {\n",
       "        vertical-align: middle;\n",
       "    }\n",
       "\n",
       "    .dataframe tbody tr th {\n",
       "        vertical-align: top;\n",
       "    }\n",
       "\n",
       "    .dataframe thead th {\n",
       "        text-align: right;\n",
       "    }\n",
       "</style>\n",
       "<table border=\"1\" class=\"dataframe\">\n",
       "  <thead>\n",
       "    <tr style=\"text-align: right;\">\n",
       "      <th></th>\n",
       "      <th>address</th>\n",
       "    </tr>\n",
       "  </thead>\n",
       "  <tbody>\n",
       "    <tr>\n",
       "      <th>U</th>\n",
       "      <td>284</td>\n",
       "    </tr>\n",
       "    <tr>\n",
       "      <th>R</th>\n",
       "      <td>79</td>\n",
       "    </tr>\n",
       "  </tbody>\n",
       "</table>\n",
       "</div>"
      ],
      "text/plain": [
       "   address\n",
       "U      284\n",
       "R       79"
      ]
     },
     "metadata": {},
     "output_type": "display_data"
    },
    {
     "name": "stdout",
     "output_type": "stream",
     "text": [
      "Значений, встретившихся в столбце более 10 раз: 2\n",
      "Уникальных значений: 2\n"
     ]
    }
   ],
   "source": [
    "info_column('address', 10)"
   ]
  },
  {
   "cell_type": "code",
   "execution_count": 53,
   "id": "e8ba8f35-78d6-4f98-9cdc-80678f804b29",
   "metadata": {},
   "outputs": [
    {
     "data": {
      "text/html": [
       "<div>\n",
       "<style scoped>\n",
       "    .dataframe tbody tr th:only-of-type {\n",
       "        vertical-align: middle;\n",
       "    }\n",
       "\n",
       "    .dataframe tbody tr th {\n",
       "        vertical-align: top;\n",
       "    }\n",
       "\n",
       "    .dataframe thead th {\n",
       "        text-align: right;\n",
       "    }\n",
       "</style>\n",
       "<table border=\"1\" class=\"dataframe\">\n",
       "  <thead>\n",
       "    <tr style=\"text-align: right;\">\n",
       "      <th></th>\n",
       "      <th>family_size</th>\n",
       "    </tr>\n",
       "  </thead>\n",
       "  <tbody>\n",
       "    <tr>\n",
       "      <th>GT3</th>\n",
       "      <td>254</td>\n",
       "    </tr>\n",
       "    <tr>\n",
       "      <th>LE3</th>\n",
       "      <td>100</td>\n",
       "    </tr>\n",
       "  </tbody>\n",
       "</table>\n",
       "</div>"
      ],
      "text/plain": [
       "     family_size\n",
       "GT3          254\n",
       "LE3          100"
      ]
     },
     "metadata": {},
     "output_type": "display_data"
    },
    {
     "name": "stdout",
     "output_type": "stream",
     "text": [
      "Значений, встретившихся в столбце более 10 раз: 2\n",
      "Уникальных значений: 2\n"
     ]
    }
   ],
   "source": [
    "info_column('family_size', 10)"
   ]
  },
  {
   "cell_type": "code",
   "execution_count": 54,
   "id": "a5d5936b-9b83-4aec-bd4b-0de8b0ae63b3",
   "metadata": {},
   "outputs": [
    {
     "data": {
      "text/html": [
       "<div>\n",
       "<style scoped>\n",
       "    .dataframe tbody tr th:only-of-type {\n",
       "        vertical-align: middle;\n",
       "    }\n",
       "\n",
       "    .dataframe tbody tr th {\n",
       "        vertical-align: top;\n",
       "    }\n",
       "\n",
       "    .dataframe thead th {\n",
       "        text-align: right;\n",
       "    }\n",
       "</style>\n",
       "<table border=\"1\" class=\"dataframe\">\n",
       "  <thead>\n",
       "    <tr style=\"text-align: right;\">\n",
       "      <th></th>\n",
       "      <th>parents_status</th>\n",
       "    </tr>\n",
       "  </thead>\n",
       "  <tbody>\n",
       "    <tr>\n",
       "      <th>T</th>\n",
       "      <td>302</td>\n",
       "    </tr>\n",
       "    <tr>\n",
       "      <th>A</th>\n",
       "      <td>34</td>\n",
       "    </tr>\n",
       "  </tbody>\n",
       "</table>\n",
       "</div>"
      ],
      "text/plain": [
       "   parents_status\n",
       "T             302\n",
       "A              34"
      ]
     },
     "metadata": {},
     "output_type": "display_data"
    },
    {
     "name": "stdout",
     "output_type": "stream",
     "text": [
      "Значений, встретившихся в столбце более 10 раз: 2\n",
      "Уникальных значений: 2\n"
     ]
    }
   ],
   "source": [
    "info_column('parents_status', 10)"
   ]
  },
  {
   "cell_type": "code",
   "execution_count": 55,
   "id": "8014c8ee-bb57-4c96-96d9-211595c9b71d",
   "metadata": {
    "tags": []
   },
   "outputs": [
    {
     "data": {
      "text/html": [
       "<div>\n",
       "<style scoped>\n",
       "    .dataframe tbody tr th:only-of-type {\n",
       "        vertical-align: middle;\n",
       "    }\n",
       "\n",
       "    .dataframe tbody tr th {\n",
       "        vertical-align: top;\n",
       "    }\n",
       "\n",
       "    .dataframe thead th {\n",
       "        text-align: right;\n",
       "    }\n",
       "</style>\n",
       "<table border=\"1\" class=\"dataframe\">\n",
       "  <thead>\n",
       "    <tr style=\"text-align: right;\">\n",
       "      <th></th>\n",
       "      <th>mother_job</th>\n",
       "    </tr>\n",
       "  </thead>\n",
       "  <tbody>\n",
       "    <tr>\n",
       "      <th>other</th>\n",
       "      <td>126</td>\n",
       "    </tr>\n",
       "    <tr>\n",
       "      <th>services</th>\n",
       "      <td>93</td>\n",
       "    </tr>\n",
       "    <tr>\n",
       "      <th>at_home</th>\n",
       "      <td>56</td>\n",
       "    </tr>\n",
       "    <tr>\n",
       "      <th>teacher</th>\n",
       "      <td>53</td>\n",
       "    </tr>\n",
       "    <tr>\n",
       "      <th>health</th>\n",
       "      <td>32</td>\n",
       "    </tr>\n",
       "  </tbody>\n",
       "</table>\n",
       "</div>"
      ],
      "text/plain": [
       "          mother_job\n",
       "other            126\n",
       "services          93\n",
       "at_home           56\n",
       "teacher           53\n",
       "health            32"
      ]
     },
     "metadata": {},
     "output_type": "display_data"
    },
    {
     "name": "stdout",
     "output_type": "stream",
     "text": [
      "Значений, встретившихся в столбце более 10 раз: 5\n",
      "Уникальных значений: 5\n"
     ]
    }
   ],
   "source": [
    "info_column('mother_job', 10)"
   ]
  },
  {
   "cell_type": "code",
   "execution_count": 56,
   "id": "cfb12f1e-0d05-4c42-800f-8368807801d9",
   "metadata": {},
   "outputs": [
    {
     "data": {
      "text/html": [
       "<div>\n",
       "<style scoped>\n",
       "    .dataframe tbody tr th:only-of-type {\n",
       "        vertical-align: middle;\n",
       "    }\n",
       "\n",
       "    .dataframe tbody tr th {\n",
       "        vertical-align: top;\n",
       "    }\n",
       "\n",
       "    .dataframe thead th {\n",
       "        text-align: right;\n",
       "    }\n",
       "</style>\n",
       "<table border=\"1\" class=\"dataframe\">\n",
       "  <thead>\n",
       "    <tr style=\"text-align: right;\">\n",
       "      <th></th>\n",
       "      <th>father_job</th>\n",
       "    </tr>\n",
       "  </thead>\n",
       "  <tbody>\n",
       "    <tr>\n",
       "      <th>other</th>\n",
       "      <td>191</td>\n",
       "    </tr>\n",
       "    <tr>\n",
       "      <th>services</th>\n",
       "      <td>96</td>\n",
       "    </tr>\n",
       "    <tr>\n",
       "      <th>teacher</th>\n",
       "      <td>26</td>\n",
       "    </tr>\n",
       "    <tr>\n",
       "      <th>at_home</th>\n",
       "      <td>16</td>\n",
       "    </tr>\n",
       "    <tr>\n",
       "      <th>health</th>\n",
       "      <td>14</td>\n",
       "    </tr>\n",
       "  </tbody>\n",
       "</table>\n",
       "</div>"
      ],
      "text/plain": [
       "          father_job\n",
       "other            191\n",
       "services          96\n",
       "teacher           26\n",
       "at_home           16\n",
       "health            14"
      ]
     },
     "metadata": {},
     "output_type": "display_data"
    },
    {
     "name": "stdout",
     "output_type": "stream",
     "text": [
      "Значений, встретившихся в столбце более 10 раз: 5\n",
      "Уникальных значений: 5\n"
     ]
    }
   ],
   "source": [
    "info_column('father_job', 10)"
   ]
  },
  {
   "cell_type": "code",
   "execution_count": 57,
   "id": "4e7a680a-22f4-47f6-9aa4-cbb511dfc5cc",
   "metadata": {},
   "outputs": [
    {
     "data": {
      "text/html": [
       "<div>\n",
       "<style scoped>\n",
       "    .dataframe tbody tr th:only-of-type {\n",
       "        vertical-align: middle;\n",
       "    }\n",
       "\n",
       "    .dataframe tbody tr th {\n",
       "        vertical-align: top;\n",
       "    }\n",
       "\n",
       "    .dataframe thead th {\n",
       "        text-align: right;\n",
       "    }\n",
       "</style>\n",
       "<table border=\"1\" class=\"dataframe\">\n",
       "  <thead>\n",
       "    <tr style=\"text-align: right;\">\n",
       "      <th></th>\n",
       "      <th>reason</th>\n",
       "    </tr>\n",
       "  </thead>\n",
       "  <tbody>\n",
       "    <tr>\n",
       "      <th>course</th>\n",
       "      <td>130</td>\n",
       "    </tr>\n",
       "    <tr>\n",
       "      <th>home</th>\n",
       "      <td>101</td>\n",
       "    </tr>\n",
       "    <tr>\n",
       "      <th>reputation</th>\n",
       "      <td>98</td>\n",
       "    </tr>\n",
       "    <tr>\n",
       "      <th>other</th>\n",
       "      <td>32</td>\n",
       "    </tr>\n",
       "  </tbody>\n",
       "</table>\n",
       "</div>"
      ],
      "text/plain": [
       "            reason\n",
       "course         130\n",
       "home           101\n",
       "reputation      98\n",
       "other           32"
      ]
     },
     "metadata": {},
     "output_type": "display_data"
    },
    {
     "name": "stdout",
     "output_type": "stream",
     "text": [
      "Значений, встретившихся в столбце более 10 раз: 4\n",
      "Уникальных значений: 4\n"
     ]
    }
   ],
   "source": [
    "info_column('reason', 10)"
   ]
  },
  {
   "cell_type": "code",
   "execution_count": 58,
   "id": "a6d54d5e-764c-493b-82da-fb3f18d1066e",
   "metadata": {},
   "outputs": [
    {
     "data": {
      "text/html": [
       "<div>\n",
       "<style scoped>\n",
       "    .dataframe tbody tr th:only-of-type {\n",
       "        vertical-align: middle;\n",
       "    }\n",
       "\n",
       "    .dataframe tbody tr th {\n",
       "        vertical-align: top;\n",
       "    }\n",
       "\n",
       "    .dataframe thead th {\n",
       "        text-align: right;\n",
       "    }\n",
       "</style>\n",
       "<table border=\"1\" class=\"dataframe\">\n",
       "  <thead>\n",
       "    <tr style=\"text-align: right;\">\n",
       "      <th></th>\n",
       "      <th>guardian</th>\n",
       "    </tr>\n",
       "  </thead>\n",
       "  <tbody>\n",
       "    <tr>\n",
       "      <th>mother</th>\n",
       "      <td>237</td>\n",
       "    </tr>\n",
       "    <tr>\n",
       "      <th>father</th>\n",
       "      <td>84</td>\n",
       "    </tr>\n",
       "    <tr>\n",
       "      <th>other</th>\n",
       "      <td>27</td>\n",
       "    </tr>\n",
       "  </tbody>\n",
       "</table>\n",
       "</div>"
      ],
      "text/plain": [
       "        guardian\n",
       "mother       237\n",
       "father        84\n",
       "other         27"
      ]
     },
     "metadata": {},
     "output_type": "display_data"
    },
    {
     "name": "stdout",
     "output_type": "stream",
     "text": [
      "Значений, встретившихся в столбце более 10 раз: 3\n",
      "Уникальных значений: 3\n"
     ]
    }
   ],
   "source": [
    "info_column('guardian', 10)"
   ]
  },
  {
   "cell_type": "code",
   "execution_count": 59,
   "id": "952eed21-ed32-4e93-aa6e-9e4f02ea01a1",
   "metadata": {},
   "outputs": [
    {
     "data": {
      "text/html": [
       "<div>\n",
       "<style scoped>\n",
       "    .dataframe tbody tr th:only-of-type {\n",
       "        vertical-align: middle;\n",
       "    }\n",
       "\n",
       "    .dataframe tbody tr th {\n",
       "        vertical-align: top;\n",
       "    }\n",
       "\n",
       "    .dataframe thead th {\n",
       "        text-align: right;\n",
       "    }\n",
       "</style>\n",
       "<table border=\"1\" class=\"dataframe\">\n",
       "  <thead>\n",
       "    <tr style=\"text-align: right;\">\n",
       "      <th></th>\n",
       "      <th>school_support</th>\n",
       "    </tr>\n",
       "  </thead>\n",
       "  <tbody>\n",
       "    <tr>\n",
       "      <th>no</th>\n",
       "      <td>321</td>\n",
       "    </tr>\n",
       "    <tr>\n",
       "      <th>yes</th>\n",
       "      <td>48</td>\n",
       "    </tr>\n",
       "  </tbody>\n",
       "</table>\n",
       "</div>"
      ],
      "text/plain": [
       "     school_support\n",
       "no              321\n",
       "yes              48"
      ]
     },
     "metadata": {},
     "output_type": "display_data"
    },
    {
     "name": "stdout",
     "output_type": "stream",
     "text": [
      "Значений, встретившихся в столбце более 10 раз: 2\n",
      "Уникальных значений: 2\n"
     ]
    }
   ],
   "source": [
    "info_column('school_support', 10)"
   ]
  },
  {
   "cell_type": "code",
   "execution_count": 60,
   "id": "364110a2-8459-452b-a945-ef19625f4480",
   "metadata": {},
   "outputs": [
    {
     "data": {
      "text/html": [
       "<div>\n",
       "<style scoped>\n",
       "    .dataframe tbody tr th:only-of-type {\n",
       "        vertical-align: middle;\n",
       "    }\n",
       "\n",
       "    .dataframe tbody tr th {\n",
       "        vertical-align: top;\n",
       "    }\n",
       "\n",
       "    .dataframe thead th {\n",
       "        text-align: right;\n",
       "    }\n",
       "</style>\n",
       "<table border=\"1\" class=\"dataframe\">\n",
       "  <thead>\n",
       "    <tr style=\"text-align: right;\">\n",
       "      <th></th>\n",
       "      <th>family_support</th>\n",
       "    </tr>\n",
       "  </thead>\n",
       "  <tbody>\n",
       "    <tr>\n",
       "      <th>yes</th>\n",
       "      <td>210</td>\n",
       "    </tr>\n",
       "    <tr>\n",
       "      <th>no</th>\n",
       "      <td>131</td>\n",
       "    </tr>\n",
       "  </tbody>\n",
       "</table>\n",
       "</div>"
      ],
      "text/plain": [
       "     family_support\n",
       "yes             210\n",
       "no              131"
      ]
     },
     "metadata": {},
     "output_type": "display_data"
    },
    {
     "name": "stdout",
     "output_type": "stream",
     "text": [
      "Значений, встретившихся в столбце более 10 раз: 2\n",
      "Уникальных значений: 2\n"
     ]
    }
   ],
   "source": [
    "info_column('family_support', 10)"
   ]
  },
  {
   "cell_type": "code",
   "execution_count": 61,
   "id": "a161e132-718d-4014-a7b2-8beedc217325",
   "metadata": {},
   "outputs": [
    {
     "data": {
      "text/html": [
       "<div>\n",
       "<style scoped>\n",
       "    .dataframe tbody tr th:only-of-type {\n",
       "        vertical-align: middle;\n",
       "    }\n",
       "\n",
       "    .dataframe tbody tr th {\n",
       "        vertical-align: top;\n",
       "    }\n",
       "\n",
       "    .dataframe thead th {\n",
       "        text-align: right;\n",
       "    }\n",
       "</style>\n",
       "<table border=\"1\" class=\"dataframe\">\n",
       "  <thead>\n",
       "    <tr style=\"text-align: right;\">\n",
       "      <th></th>\n",
       "      <th>paid</th>\n",
       "    </tr>\n",
       "  </thead>\n",
       "  <tbody>\n",
       "    <tr>\n",
       "      <th>no</th>\n",
       "      <td>192</td>\n",
       "    </tr>\n",
       "    <tr>\n",
       "      <th>yes</th>\n",
       "      <td>147</td>\n",
       "    </tr>\n",
       "  </tbody>\n",
       "</table>\n",
       "</div>"
      ],
      "text/plain": [
       "     paid\n",
       "no    192\n",
       "yes   147"
      ]
     },
     "metadata": {},
     "output_type": "display_data"
    },
    {
     "name": "stdout",
     "output_type": "stream",
     "text": [
      "Значений, встретившихся в столбце более 10 раз: 2\n",
      "Уникальных значений: 2\n"
     ]
    }
   ],
   "source": [
    "info_column('paid', 10)"
   ]
  },
  {
   "cell_type": "code",
   "execution_count": 62,
   "id": "d89e3bcf-e81a-437c-be63-cf8040ddc71d",
   "metadata": {},
   "outputs": [
    {
     "data": {
      "text/html": [
       "<div>\n",
       "<style scoped>\n",
       "    .dataframe tbody tr th:only-of-type {\n",
       "        vertical-align: middle;\n",
       "    }\n",
       "\n",
       "    .dataframe tbody tr th {\n",
       "        vertical-align: top;\n",
       "    }\n",
       "\n",
       "    .dataframe thead th {\n",
       "        text-align: right;\n",
       "    }\n",
       "</style>\n",
       "<table border=\"1\" class=\"dataframe\">\n",
       "  <thead>\n",
       "    <tr style=\"text-align: right;\">\n",
       "      <th></th>\n",
       "      <th>activities</th>\n",
       "    </tr>\n",
       "  </thead>\n",
       "  <tbody>\n",
       "    <tr>\n",
       "      <th>yes</th>\n",
       "      <td>187</td>\n",
       "    </tr>\n",
       "    <tr>\n",
       "      <th>no</th>\n",
       "      <td>177</td>\n",
       "    </tr>\n",
       "  </tbody>\n",
       "</table>\n",
       "</div>"
      ],
      "text/plain": [
       "     activities\n",
       "yes         187\n",
       "no          177"
      ]
     },
     "metadata": {},
     "output_type": "display_data"
    },
    {
     "name": "stdout",
     "output_type": "stream",
     "text": [
      "Значений, встретившихся в столбце более 10 раз: 2\n",
      "Уникальных значений: 2\n"
     ]
    }
   ],
   "source": [
    "info_column('activities', 10)"
   ]
  },
  {
   "cell_type": "code",
   "execution_count": 63,
   "id": "7ea027e5-fb77-4045-9bff-40a8cfda7def",
   "metadata": {},
   "outputs": [
    {
     "data": {
      "text/html": [
       "<div>\n",
       "<style scoped>\n",
       "    .dataframe tbody tr th:only-of-type {\n",
       "        vertical-align: middle;\n",
       "    }\n",
       "\n",
       "    .dataframe tbody tr th {\n",
       "        vertical-align: top;\n",
       "    }\n",
       "\n",
       "    .dataframe thead th {\n",
       "        text-align: right;\n",
       "    }\n",
       "</style>\n",
       "<table border=\"1\" class=\"dataframe\">\n",
       "  <thead>\n",
       "    <tr style=\"text-align: right;\">\n",
       "      <th></th>\n",
       "      <th>nursery</th>\n",
       "    </tr>\n",
       "  </thead>\n",
       "  <tbody>\n",
       "    <tr>\n",
       "      <th>yes</th>\n",
       "      <td>287</td>\n",
       "    </tr>\n",
       "    <tr>\n",
       "      <th>no</th>\n",
       "      <td>75</td>\n",
       "    </tr>\n",
       "  </tbody>\n",
       "</table>\n",
       "</div>"
      ],
      "text/plain": [
       "     nursery\n",
       "yes      287\n",
       "no        75"
      ]
     },
     "metadata": {},
     "output_type": "display_data"
    },
    {
     "name": "stdout",
     "output_type": "stream",
     "text": [
      "Значений, встретившихся в столбце более 10 раз: 2\n",
      "Уникальных значений: 2\n"
     ]
    }
   ],
   "source": [
    "info_column('nursery', 10)"
   ]
  },
  {
   "cell_type": "code",
   "execution_count": 64,
   "id": "c906618e-9b60-4f74-9409-adbf97bbf34c",
   "metadata": {},
   "outputs": [
    {
     "data": {
      "text/html": [
       "<div>\n",
       "<style scoped>\n",
       "    .dataframe tbody tr th:only-of-type {\n",
       "        vertical-align: middle;\n",
       "    }\n",
       "\n",
       "    .dataframe tbody tr th {\n",
       "        vertical-align: top;\n",
       "    }\n",
       "\n",
       "    .dataframe thead th {\n",
       "        text-align: right;\n",
       "    }\n",
       "</style>\n",
       "<table border=\"1\" class=\"dataframe\">\n",
       "  <thead>\n",
       "    <tr style=\"text-align: right;\">\n",
       "      <th></th>\n",
       "      <th>higher</th>\n",
       "    </tr>\n",
       "  </thead>\n",
       "  <tbody>\n",
       "    <tr>\n",
       "      <th>yes</th>\n",
       "      <td>343</td>\n",
       "    </tr>\n",
       "    <tr>\n",
       "      <th>no</th>\n",
       "      <td>16</td>\n",
       "    </tr>\n",
       "  </tbody>\n",
       "</table>\n",
       "</div>"
      ],
      "text/plain": [
       "     higher\n",
       "yes     343\n",
       "no       16"
      ]
     },
     "metadata": {},
     "output_type": "display_data"
    },
    {
     "name": "stdout",
     "output_type": "stream",
     "text": [
      "Значений, встретившихся в столбце более 10 раз: 2\n",
      "Уникальных значений: 2\n"
     ]
    }
   ],
   "source": [
    "info_column('higher', 10)"
   ]
  },
  {
   "cell_type": "code",
   "execution_count": 65,
   "id": "85b2a078-fa56-4a04-9ee3-53dd576bee68",
   "metadata": {},
   "outputs": [
    {
     "data": {
      "text/html": [
       "<div>\n",
       "<style scoped>\n",
       "    .dataframe tbody tr th:only-of-type {\n",
       "        vertical-align: middle;\n",
       "    }\n",
       "\n",
       "    .dataframe tbody tr th {\n",
       "        vertical-align: top;\n",
       "    }\n",
       "\n",
       "    .dataframe thead th {\n",
       "        text-align: right;\n",
       "    }\n",
       "</style>\n",
       "<table border=\"1\" class=\"dataframe\">\n",
       "  <thead>\n",
       "    <tr style=\"text-align: right;\">\n",
       "      <th></th>\n",
       "      <th>internet</th>\n",
       "    </tr>\n",
       "  </thead>\n",
       "  <tbody>\n",
       "    <tr>\n",
       "      <th>yes</th>\n",
       "      <td>290</td>\n",
       "    </tr>\n",
       "    <tr>\n",
       "      <th>no</th>\n",
       "      <td>55</td>\n",
       "    </tr>\n",
       "  </tbody>\n",
       "</table>\n",
       "</div>"
      ],
      "text/plain": [
       "     internet\n",
       "yes       290\n",
       "no         55"
      ]
     },
     "metadata": {},
     "output_type": "display_data"
    },
    {
     "name": "stdout",
     "output_type": "stream",
     "text": [
      "Значений, встретившихся в столбце более 10 раз: 2\n",
      "Уникальных значений: 2\n"
     ]
    }
   ],
   "source": [
    "info_column('internet', 10)"
   ]
  },
  {
   "cell_type": "code",
   "execution_count": 66,
   "id": "59c246f5-3b11-4bfe-9cd0-423d2d1e8f86",
   "metadata": {
    "scrolled": true
   },
   "outputs": [
    {
     "data": {
      "text/html": [
       "<div>\n",
       "<style scoped>\n",
       "    .dataframe tbody tr th:only-of-type {\n",
       "        vertical-align: middle;\n",
       "    }\n",
       "\n",
       "    .dataframe tbody tr th {\n",
       "        vertical-align: top;\n",
       "    }\n",
       "\n",
       "    .dataframe thead th {\n",
       "        text-align: right;\n",
       "    }\n",
       "</style>\n",
       "<table border=\"1\" class=\"dataframe\">\n",
       "  <thead>\n",
       "    <tr style=\"text-align: right;\">\n",
       "      <th></th>\n",
       "      <th>romantic</th>\n",
       "    </tr>\n",
       "  </thead>\n",
       "  <tbody>\n",
       "    <tr>\n",
       "      <th>no</th>\n",
       "      <td>228</td>\n",
       "    </tr>\n",
       "    <tr>\n",
       "      <th>yes</th>\n",
       "      <td>119</td>\n",
       "    </tr>\n",
       "  </tbody>\n",
       "</table>\n",
       "</div>"
      ],
      "text/plain": [
       "     romantic\n",
       "no        228\n",
       "yes       119"
      ]
     },
     "metadata": {},
     "output_type": "display_data"
    },
    {
     "name": "stdout",
     "output_type": "stream",
     "text": [
      "Значений, встретившихся в столбце более 10 раз: 2\n",
      "Уникальных значений: 2\n"
     ]
    }
   ],
   "source": [
    "info_column('romantic', 10)"
   ]
  },
  {
   "cell_type": "code",
   "execution_count": 67,
   "id": "7b81fa35",
   "metadata": {
    "tags": []
   },
   "outputs": [
    {
     "name": "stdout",
     "output_type": "stream",
     "text": [
      "внесены пропущенные данные для: school\n",
      "внесены пропущенные данные для: sex\n",
      "внесены пропущенные данные для: address\n",
      "внесены пропущенные данные для: family_size\n",
      "внесены пропущенные данные для: parents_status\n",
      "внесены пропущенные данные для: mother_job\n",
      "внесены пропущенные данные для: father_job\n",
      "внесены пропущенные данные для: reason\n",
      "внесены пропущенные данные для: guardian\n",
      "внесены пропущенные данные для: school_support\n",
      "внесены пропущенные данные для: family_support\n",
      "внесены пропущенные данные для: paid\n",
      "внесены пропущенные данные для: activities\n",
      "внесены пропущенные данные для: nursery\n",
      "внесены пропущенные данные для: higher\n",
      "внесены пропущенные данные для: internet\n",
      "внесены пропущенные данные для: romantic\n"
     ]
    }
   ],
   "source": [
    "# замена пропусков на наиболее часто встречающееся значение (describe.'top')для категориальных признаков\n",
    "for col in non_numeric_cols:\n",
    "    missing = df[col].isnull()\n",
    "    num_missing = np.sum(missing)\n",
    "\n",
    "    if num_missing > 0:\n",
    "        print('внесены пропущенные данные для: {}'.format(col))\n",
    "        df['{}_inplaced'.format(col)] = missing\n",
    "\n",
    "        top = df[col].describe()['top']\n",
    "        df[col] = df[col].fillna(top)"
   ]
  },
  {
   "cell_type": "code",
   "execution_count": 68,
   "id": "b55e3797",
   "metadata": {},
   "outputs": [],
   "source": [
    "# распределение score в зависмости от категориальных переменных\n",
    "def get_boxplot(column):\n",
    "    fig, ax = plt.subplots(figsize=(10, 10))\n",
    "    sns.boxplot(x=column, y='score',\n",
    "                data=df,\n",
    "                ax=ax)\n",
    "    plt.xticks(rotation=45)\n",
    "    ax.set_title('Boxplot for ' + column)\n",
    "    plt.show()"
   ]
  },
  {
   "cell_type": "code",
   "execution_count": 69,
   "id": "4e0367e1",
   "metadata": {},
   "outputs": [
    {
     "data": {
      "image/png": "[encoded data removed]",
      "text/plain": [
       "<Figure size 720x720 with 1 Axes>"
      ]
     },
     "metadata": {
      "needs_background": "light"
     },
     "output_type": "display_data"
    },
    {
     "data": {
      "image/png": "[encoded data removed]",
      "text/plain": [
       "<Figure size 720x720 with 1 Axes>"
      ]
     },
     "metadata": {
      "needs_background": "light"
     },
     "output_type": "display_data"
    },
    {
     "data": {
      "image/png": "[encoded data removed]",
      "text/plain": [
       "<Figure size 720x720 with 1 Axes>"
      ]
     },
     "metadata": {
      "needs_background": "light"
     },
     "output_type": "display_data"
    },
    {
     "data": {
      "image/png": "[encoded data removed]",
      "text/plain": [
       "<Figure size 720x720 with 1 Axes>"
      ]
     },
     "metadata": {
      "needs_background": "light"
     },
     "output_type": "display_data"
    },
    {
     "data": {
      "image/png": "[encoded data removed]",
      "text/plain": [
       "<Figure size 720x720 with 1 Axes>"
      ]
     },
     "metadata": {
      "needs_background": "light"
     },
     "output_type": "display_data"
    },
    {
     "data": {
      "image/png": "[encoded data removed]",
      "text/plain": [
       "<Figure size 720x720 with 1 Axes>"
      ]
     },
     "metadata": {
      "needs_background": "light"
     },
     "output_type": "display_data"
    },
    {
     "data": {
      "image/png": "[encoded data removed]",
      "text/plain": [
       "<Figure size 720x720 with 1 Axes>"
      ]
     },
     "metadata": {
      "needs_background": "light"
     },
     "output_type": "display_data"
    },
    {
     "data": {
      "image/png": "[encoded data removed]",
      "text/plain": [
       "<Figure size 720x720 with 1 Axes>"
      ]
     },
     "metadata": {
      "needs_background": "light"
     },
     "output_type": "display_data"
    },
    {
     "data": {
      "image/png": "[encoded data removed]",
      "text/plain": [
       "<Figure size 720x720 with 1 Axes>"
      ]
     },
     "metadata": {
      "needs_background": "light"
     },
     "output_type": "display_data"
    },
    {
     "data": {
      "image/png": "[encoded data removed]",
      "text/plain": [
       "<Figure size 720x720 with 1 Axes>"
      ]
     },
     "metadata": {
      "needs_background": "light"
     },
     "output_type": "display_data"
    },
    {
     "data": {
      "image/png": "[encoded data removed]",
      "text/plain": [
       "<Figure size 720x720 with 1 Axes>"
      ]
     },
     "metadata": {
      "needs_background": "light"
     },
     "output_type": "display_data"
    },
    {
     "data": {
      "image/png": "[encoded data removed]",
      "text/plain": [
       "<Figure size 720x720 with 1 Axes>"
      ]
     },
     "metadata": {
      "needs_background": "light"
     },
     "output_type": "display_data"
    },
    {
     "data": {
      "image/png": "[encoded data removed]",
      "text/plain": [
       "<Figure size 720x720 with 1 Axes>"
      ]
     },
     "metadata": {
      "needs_background": "light"
     },
     "output_type": "display_data"
    },
    {
     "data": {
      "image/png": "[encoded data removed]",
      "text/plain": [
       "<Figure size 720x720 with 1 Axes>"
      ]
     },
     "metadata": {
      "needs_background": "light"
     },
     "output_type": "display_data"
    },
    {
     "data": {
      "image/png": "[encoded data removed]",
      "text/plain": [
       "<Figure size 720x720 with 1 Axes>"
      ]
     },
     "metadata": {
      "needs_background": "light"
     },
     "output_type": "display_data"
    },
    {
     "data": {
      "image/png": "[encoded data removed]",
      "text/plain": [
       "<Figure size 720x720 with 1 Axes>"
      ]
     },
     "metadata": {
      "needs_background": "light"
     },
     "output_type": "display_data"
    },
    {
     "data": {
      "image/png": "[encoded data removed]",
      "text/plain": [
       "<Figure size 720x720 with 1 Axes>"
      ]
     },
     "metadata": {
      "needs_background": "light"
     },
     "output_type": "display_data"
    }
   ],
   "source": [
    "for col in ['school', 'sex', 'address', 'family_size', 'parents_status', 'mother_job',\n",
    "            'father_job', 'reason', 'guardian', 'school_support', 'family_support', 'paid',\n",
    "            'activities', 'nursery', 'higher', 'internet', 'romantic']:\n",
    "    get_boxplot(col)"
   ]
  },
  {
   "cell_type": "code",
   "execution_count": 70,
   "id": "f45d0bc1",
   "metadata": {},
   "outputs": [],
   "source": [
    "from itertools import combinations\n",
    "from scipy.stats import ttest_ind\n",
    "\n",
    "# тест Стьюдента\n",
    "# def get_stat_dif(column):\n",
    "#    cols = df.loc[:, column].value_counts()\n",
    "#    combinations_all = list(combinations(cols, 2))\n",
    "#    for comb in combinations_all:\n",
    "#        if ttest_ind(df.loc[df.loc[:, column] == comb[0], 'score'],\n",
    "#                     df.loc[df.loc[:, column] == comb[1], 'score']).pvalue \\\n",
    "#        <= 0.05/len(combinations_all):  # Учли поправку Бонферони\n",
    "#            print('Найдены статистически значимые различия для колонки', column)\n",
    "#            break\n",
    "# ВОПРОС!!!! Данный код не дает вывод данных"
   ]
  },
  {
   "cell_type": "code",
   "execution_count": 71,
   "id": "84c56e5d",
   "metadata": {},
   "outputs": [],
   "source": [
    "# тест Стьдента для категориальных параметров\n",
    "# for col in ['school', 'sex', 'address', 'family_size', 'parents_status', 'mother_job',\n",
    "#            'father_job', 'reason', 'guardian', 'school_support', 'family_support', 'paid',\n",
    "#            'activities', 'nursery', 'higher', 'internet', 'romantic']:\n",
    "#    get_stat_dif(col)"
   ]
  },
  {
   "cell_type": "code",
   "execution_count": 72,
   "id": "5d0b2f04",
   "metadata": {
    "scrolled": true
   },
   "outputs": [],
   "source": [
    "# тест Стьдента для числовых параметров\n",
    "# for col in ['score', 'age', 'mother_education', 'father_education', 'travel_time', 'study_time',\n",
    "#            'failures', 'studytime_granular', 'family_relationship', 'free_time', 'go_out', 'health', 'absences']:\n",
    "#    get_stat_dif(col)"
   ]
  },
  {
   "cell_type": "code",
   "execution_count": 73,
   "id": "93b13f66-e6ae-4fab-b2b6-e7f5aa663514",
   "metadata": {
    "tags": []
   },
   "outputs": [
    {
     "name": "stdout",
     "output_type": "stream",
     "text": [
      "F_onewayResult(statistic=0.4679284817045091, pvalue=0.49435864561661025)\n",
      "F_onewayResult(statistic=3.915754299189526, pvalue=0.04855711758740846)\n",
      "F_onewayResult(statistic=7.293340815356535, pvalue=0.007230693028669437)\n",
      "F_onewayResult(statistic=2.3438031916298314, pvalue=0.12661416172231163)\n",
      "F_onewayResult(statistic=0.9747809376567054, pvalue=0.3241189381367825)\n",
      "F_onewayResult(statistic=3.0487839911412817, pvalue=0.017102012382496617)\n",
      "F_onewayResult(statistic=0.5277209392480273, pvalue=0.7154308021096449)\n",
      "F_onewayResult(statistic=1.1763701841368626, pvalue=0.3185155232887791)\n",
      "F_onewayResult(statistic=0.8575667115264524, pvalue=0.42501444518520126)\n",
      "F_onewayResult(statistic=3.2902488901612874, pvalue=0.07048104717155147)\n",
      "F_onewayResult(statistic=0.011609014006309702, pvalue=0.9142547302749199)\n",
      "F_onewayResult(statistic=3.2941565117211042, pvalue=0.07031504766540912)\n",
      "F_onewayResult(statistic=0.0027811004236619713, pvalue=0.957969855527937)\n",
      "F_onewayResult(statistic=1.1241811370711916, pvalue=0.28969336223543585)\n",
      "F_onewayResult(statistic=10.119482427370176, pvalue=0.00158767725235919)\n",
      "F_onewayResult(statistic=0.9912785629450216, pvalue=0.3200636433393794)\n",
      "F_onewayResult(statistic=5.748718559694161, pvalue=0.01698256059605819)\n"
     ]
    }
   ],
   "source": [
    "# тест ANOVA (номинативные параметры)\n",
    "\n",
    "from scipy import stats\n",
    "from scipy.stats import f_oneway\n",
    "\n",
    "\n",
    "def get_stat_anova(col, df):\n",
    "    var_list = []\n",
    "    cols = df.dropna()[col].unique()\n",
    "    for item in cols:\n",
    "        var_list.append(list(df[df[col] == item]['score']))\n",
    "    print(f_oneway(*var_list))\n",
    "\n",
    "\n",
    "for col in ['school', 'sex', 'address', 'family_size', 'parents_status', 'mother_job',\n",
    "            'father_job', 'reason', 'guardian', 'school_support', 'family_support', 'paid',\n",
    "            'activities', 'nursery', 'higher', 'internet', 'romantic']:\n",
    "    get_stat_anova(col, df)\n",
    "\n",
    "# По результатам теста оставляем для построения модели номинативные парметры:\n",
    "# sex, address, mother_job, higher, romantic\n",
    "# на свое усмотрение также оставляем параметры со значением p-value = 0.07:\n",
    "# school_support, paid\n",
    "# (значение p-value < 0,05, H0 отклоняется и параметр является существенным)"
   ]
  },
  {
   "cell_type": "code",
   "execution_count": 74,
   "id": "0a51d7fc-27b5-44cc-bae4-af5cee1c10d9",
   "metadata": {
    "scrolled": true,
    "tags": []
   },
   "outputs": [
    {
     "name": "stdout",
     "output_type": "stream",
     "text": [
      "F_onewayResult(statistic=2.1788549421503083, pvalue=0.0353815506021782)\n",
      "F_onewayResult(statistic=5.232788602120326, pvalue=0.00041169419571050866)\n",
      "F_onewayResult(statistic=1.5564172041430735, pvalue=0.18532004535723987)\n",
      "F_onewayResult(statistic=0.5573537784927098, pvalue=0.6434947392675996)\n",
      "F_onewayResult(statistic=2.0456554984510147, pvalue=0.10704525537231013)\n",
      "F_onewayResult(statistic=15.606307159405524, pvalue=1.3709687735113792e-09)\n",
      "F_onewayResult(statistic=2.0456554984510147, pvalue=0.10704525537231013)\n",
      "F_onewayResult(statistic=0.6614396690168151, pvalue=0.6191372833231406)\n",
      "F_onewayResult(statistic=1.408779446749522, pvalue=0.23037964010290654)\n",
      "F_onewayResult(statistic=3.344820903576217, pvalue=0.010419578547070879)\n",
      "F_onewayResult(statistic=1.1965290228646928, pvalue=0.31187764043030225)\n",
      "F_onewayResult(statistic=1.6534789697096428, pvalue=0.018868827708244888)\n"
     ]
    }
   ],
   "source": [
    "# тест ANOVA (количественные параметры)\n",
    "\n",
    "from scipy import stats\n",
    "from scipy.stats import f_oneway\n",
    "\n",
    "\n",
    "def get_stat_anova(col, df):\n",
    "    var_list = []\n",
    "    cols = df.dropna()[col].unique()\n",
    "    for item in cols:\n",
    "        var_list.append(list(df[df[col] == item]['score']))\n",
    "    print(f_oneway(*var_list))\n",
    "\n",
    "\n",
    "for col in ['age', 'mother_education', 'father_education', 'travel_time', 'study_time', 'failures',\n",
    "            'studytime_granular', 'family_relationship', 'free_time', 'go_out', 'health', 'absences']:\n",
    "    get_stat_anova(col, df)\n",
    "\n",
    "# По результатам теста оставляем для построения модели количественные параметры:\n",
    "# age, mother_education, go_out, absences, failures\n",
    "# на свое усмотрение также оставляем параметры со значением p-value = 0.10:\n",
    "# study_time, studytime_granular, но так как они отрицательно коррелируеются, оставляем только study_time\n",
    "# (значение p-value < 0,05, H0 отклоняется и параметр является существенным)"
   ]
  },
  {
   "cell_type": "code",
   "execution_count": 76,
   "id": "8297925d-7568-4196-909f-f0ca7489e372",
   "metadata": {
    "scrolled": true
   },
   "outputs": [
    {
     "data": {
      "text/html": [
       "<div>\n",
       "<style scoped>\n",
       "    .dataframe tbody tr th:only-of-type {\n",
       "        vertical-align: middle;\n",
       "    }\n",
       "\n",
       "    .dataframe tbody tr th {\n",
       "        vertical-align: top;\n",
       "    }\n",
       "\n",
       "    .dataframe thead th {\n",
       "        text-align: right;\n",
       "    }\n",
       "</style>\n",
       "<table border=\"1\" class=\"dataframe\">\n",
       "  <thead>\n",
       "    <tr style=\"text-align: right;\">\n",
       "      <th></th>\n",
       "      <th>sex</th>\n",
       "      <th>address</th>\n",
       "      <th>mother_job</th>\n",
       "      <th>higher</th>\n",
       "      <th>romantic</th>\n",
       "      <th>school_support</th>\n",
       "      <th>paid</th>\n",
       "      <th>age</th>\n",
       "      <th>mother_education</th>\n",
       "      <th>go_out</th>\n",
       "      <th>absences</th>\n",
       "      <th>study_time</th>\n",
       "      <th>failures</th>\n",
       "    </tr>\n",
       "  </thead>\n",
       "  <tbody>\n",
       "    <tr>\n",
       "      <th>0</th>\n",
       "      <td>F</td>\n",
       "      <td>U</td>\n",
       "      <td>at_home</td>\n",
       "      <td>yes</td>\n",
       "      <td>no</td>\n",
       "      <td>yes</td>\n",
       "      <td>no</td>\n",
       "      <td>18.0</td>\n",
       "      <td>4.0</td>\n",
       "      <td>4.0</td>\n",
       "      <td>6.0</td>\n",
       "      <td>2.0</td>\n",
       "      <td>0.0</td>\n",
       "    </tr>\n",
       "    <tr>\n",
       "      <th>1</th>\n",
       "      <td>F</td>\n",
       "      <td>U</td>\n",
       "      <td>at_home</td>\n",
       "      <td>yes</td>\n",
       "      <td>no</td>\n",
       "      <td>no</td>\n",
       "      <td>no</td>\n",
       "      <td>17.0</td>\n",
       "      <td>1.0</td>\n",
       "      <td>3.0</td>\n",
       "      <td>4.0</td>\n",
       "      <td>2.0</td>\n",
       "      <td>0.0</td>\n",
       "    </tr>\n",
       "    <tr>\n",
       "      <th>2</th>\n",
       "      <td>F</td>\n",
       "      <td>U</td>\n",
       "      <td>at_home</td>\n",
       "      <td>yes</td>\n",
       "      <td>no</td>\n",
       "      <td>yes</td>\n",
       "      <td>no</td>\n",
       "      <td>15.0</td>\n",
       "      <td>1.0</td>\n",
       "      <td>2.0</td>\n",
       "      <td>10.0</td>\n",
       "      <td>2.0</td>\n",
       "      <td>3.0</td>\n",
       "    </tr>\n",
       "    <tr>\n",
       "      <th>3</th>\n",
       "      <td>F</td>\n",
       "      <td>U</td>\n",
       "      <td>health</td>\n",
       "      <td>yes</td>\n",
       "      <td>yes</td>\n",
       "      <td>no</td>\n",
       "      <td>yes</td>\n",
       "      <td>15.0</td>\n",
       "      <td>4.0</td>\n",
       "      <td>2.0</td>\n",
       "      <td>2.0</td>\n",
       "      <td>3.0</td>\n",
       "      <td>0.0</td>\n",
       "    </tr>\n",
       "    <tr>\n",
       "      <th>4</th>\n",
       "      <td>F</td>\n",
       "      <td>U</td>\n",
       "      <td>other</td>\n",
       "      <td>yes</td>\n",
       "      <td>no</td>\n",
       "      <td>no</td>\n",
       "      <td>yes</td>\n",
       "      <td>16.0</td>\n",
       "      <td>3.0</td>\n",
       "      <td>2.0</td>\n",
       "      <td>4.0</td>\n",
       "      <td>2.0</td>\n",
       "      <td>0.0</td>\n",
       "    </tr>\n",
       "  </tbody>\n",
       "</table>\n",
       "</div>"
      ],
      "text/plain": [
       "  sex address mother_job higher romantic school_support paid   age  \\\n",
       "0   F       U    at_home    yes       no            yes   no  18.0   \n",
       "1   F       U    at_home    yes       no             no   no  17.0   \n",
       "2   F       U    at_home    yes       no            yes   no  15.0   \n",
       "3   F       U     health    yes      yes             no  yes  15.0   \n",
       "4   F       U      other    yes       no             no  yes  16.0   \n",
       "\n",
       "   mother_education  go_out  absences  study_time  failures  \n",
       "0               4.0     4.0       6.0         2.0       0.0  \n",
       "1               1.0     3.0       4.0         2.0       0.0  \n",
       "2               1.0     2.0      10.0         2.0       3.0  \n",
       "3               4.0     2.0       2.0         3.0       0.0  \n",
       "4               3.0     2.0       4.0         2.0       0.0  "
      ]
     },
     "execution_count": 76,
     "metadata": {},
     "output_type": "execute_result"
    }
   ],
   "source": [
    "# Датафрейм для использования при построении модели\n",
    "df_for_model = df.loc[:, ['sex', 'address', 'mother_job', 'higher', 'romantic', 'school_support', 'paid',\n",
    "                          'age', 'mother_education', 'go_out', 'absences', 'study_time', 'failures']]\n",
    "df_for_model.head()"
   ]
  },
  {
   "cell_type": "code",
   "execution_count": null,
   "id": "4c6d96d6-1a4a-4a02-83ae-8f648a642d27",
   "metadata": {},
   "outputs": [],
   "source": []
  }
 ],
 "metadata": {
  "kernelspec": {
   "display_name": "Python 3 (ipykernel)",
   "language": "python",
   "name": "python3"
  },
  "language_info": {
   "codemirror_mode": {
    "name": "ipython",
    "version": 3
   },
   "file_extension": ".py",
   "mimetype": "text/x-python",
   "name": "python",
   "nbconvert_exporter": "python",
   "pygments_lexer": "ipython3",
   "version": "3.8.8"
  }
 },
 "nbformat": 4,
 "nbformat_minor": 5
}
