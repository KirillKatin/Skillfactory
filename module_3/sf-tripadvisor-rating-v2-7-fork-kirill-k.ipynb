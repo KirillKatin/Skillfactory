{
 "cells": [
  {
   "cell_type": "markdown",
   "metadata": {},
   "source": [
    "# Predict TripAdvisor Rating\n",
    "\n",
    "Выполнение задания:\n",
    "1. Анализ исходных данных;\n",
    "2. Очистка и подготовка данных - очистка от мусора, работа с nan, перекодирование номинальных признаков;\n",
    "3. Создание новых признаков (Feature Engineering) на основе имеющихся данных;\n",
    "4. EDA: проведение анализа числовых и категориальных данных, построение графиков\n",
    "5. ML: проверка очищенных данных, запуск модели ML, прогноз и MAE\n",
    "6. Исследование признаков оказавших наиболее сильное влияние на результат прогноза\n",
    "7. Submission"
   ]
  },
  {
   "cell_type": "markdown",
   "metadata": {},
   "source": [
    "# libraries import"
   ]
  },
  {
   "cell_type": "code",
   "execution_count": 1,
   "metadata": {
    "_cell_guid": "b1076dfc-b9ad-4769-8c92-a6c4dae69d19",
    "_uuid": "8f2839f25d086af736a60e9eeb907d3b93b6e0e5",
    "execution": {
     "iopub.execute_input": "2021-12-01T07:45:33.652314Z",
     "iopub.status.busy": "2021-12-01T07:45:33.651708Z",
     "iopub.status.idle": "2021-12-01T07:45:37.593728Z",
     "shell.execute_reply": "2021-12-01T07:45:37.592991Z",
     "shell.execute_reply.started": "2021-12-01T07:45:33.652258Z"
    }
   },
   "outputs": [],
   "source": [
    "import numpy as np # linear algebra\n",
    "import pandas as pd # data processing, CSV file I/O (e.g. pd.read_csv)\n",
    "\n",
    "import matplotlib.pyplot as plt\n",
    "import seaborn as sns \n",
    "%matplotlib inline\n",
    "\n",
    "# Загружаем специальный удобный инструмент для разделения датасета:\n",
    "from sklearn.model_selection import train_test_split\n",
    "\n",
    "# Input data files are available in the \"../input/\" directory.\n",
    "# For example, running this (by clicking run or pressing Shift+Enter) will list all files under the input directory\n",
    "\n",
    "import os\n",
    "for dirname, _, filenames in os.walk('/kaggle/input'):\n",
    "    for filename in filenames:\n",
    "        print(os.path.join(dirname, filename))\n",
    "    \n",
    "import re\n",
    "from datetime import datetime, timedelta\n",
    "from collections import Counter\n",
    "import pandas_profiling\n",
    "\n",
    "# Any results you write to the current directory are saved as output."
   ]
  },
  {
   "cell_type": "code",
   "execution_count": 2,
   "metadata": {
    "execution": {
     "iopub.execute_input": "2021-12-01T07:45:37.595479Z",
     "iopub.status.busy": "2021-12-01T07:45:37.595109Z",
     "iopub.status.idle": "2021-12-01T07:45:37.599188Z",
     "shell.execute_reply": "2021-12-01T07:45:37.598260Z",
     "shell.execute_reply.started": "2021-12-01T07:45:37.595440Z"
    }
   },
   "outputs": [],
   "source": [
    "# всегда фиксируйте RANDOM_SEED, чтобы ваши эксперименты были воспроизводимы!\n",
    "RANDOM_SEED = 42"
   ]
  },
  {
   "cell_type": "code",
   "execution_count": 3,
   "metadata": {
    "execution": {
     "iopub.execute_input": "2021-12-01T07:45:37.600681Z",
     "iopub.status.busy": "2021-12-01T07:45:37.600335Z",
     "iopub.status.idle": "2021-12-01T07:45:41.121529Z",
     "shell.execute_reply": "2021-12-01T07:45:41.120395Z",
     "shell.execute_reply.started": "2021-12-01T07:45:37.600595Z"
    }
   },
   "outputs": [],
   "source": [
    "# зафиксируем версию пакетов, чтобы эксперименты были воспроизводимы:\n",
    "!pip freeze > requirements.txt"
   ]
  },
  {
   "cell_type": "markdown",
   "metadata": {},
   "source": [
    "# DATA"
   ]
  },
  {
   "cell_type": "code",
   "execution_count": 4,
   "metadata": {
    "_cell_guid": "79c7e3d0-c299-4dcb-8224-4455121ee9b0",
    "_uuid": "d629ff2d2480ee46fbb7e2d37f6b5fab8052498a",
    "execution": {
     "iopub.execute_input": "2021-12-01T07:45:42.775441Z",
     "iopub.status.busy": "2021-12-01T07:45:42.775082Z",
     "iopub.status.idle": "2021-12-01T07:45:43.188093Z",
     "shell.execute_reply": "2021-12-01T07:45:43.187274Z",
     "shell.execute_reply.started": "2021-12-01T07:45:42.775385Z"
    }
   },
   "outputs": [],
   "source": [
    "DATA_DIR = '/kaggle/input/sf-dst-restaurant-rating/'\n",
    "df_train = pd.read_csv(DATA_DIR+'/main_task.csv')\n",
    "df_test = pd.read_csv(DATA_DIR+'kaggle_task.csv')\n",
    "sample_submission = pd.read_csv(DATA_DIR+'/sample_submission.csv')"
   ]
  },
  {
   "cell_type": "code",
   "execution_count": 5,
   "metadata": {
    "execution": {
     "iopub.execute_input": "2021-12-01T07:45:45.159918Z",
     "iopub.status.busy": "2021-12-01T07:45:45.159585Z",
     "iopub.status.idle": "2021-12-01T07:45:45.208526Z",
     "shell.execute_reply": "2021-12-01T07:45:45.207813Z",
     "shell.execute_reply.started": "2021-12-01T07:45:45.159868Z"
    }
   },
   "outputs": [],
   "source": [
    "df_train.info()"
   ]
  },
  {
   "cell_type": "code",
   "execution_count": 6,
   "metadata": {
    "execution": {
     "iopub.execute_input": "2021-12-01T07:45:45.638914Z",
     "iopub.status.busy": "2021-12-01T07:45:45.638376Z",
     "iopub.status.idle": "2021-12-01T07:45:45.667469Z",
     "shell.execute_reply": "2021-12-01T07:45:45.666572Z",
     "shell.execute_reply.started": "2021-12-01T07:45:45.638843Z"
    }
   },
   "outputs": [],
   "source": [
    "df_train.head(5)"
   ]
  },
  {
   "cell_type": "code",
   "execution_count": 7,
   "metadata": {
    "execution": {
     "iopub.execute_input": "2021-12-01T07:45:46.149746Z",
     "iopub.status.busy": "2021-12-01T07:45:46.149266Z",
     "iopub.status.idle": "2021-12-01T07:45:46.166502Z",
     "shell.execute_reply": "2021-12-01T07:45:46.165563Z",
     "shell.execute_reply.started": "2021-12-01T07:45:46.149532Z"
    }
   },
   "outputs": [],
   "source": [
    "df_test.info()"
   ]
  },
  {
   "cell_type": "code",
   "execution_count": 8,
   "metadata": {
    "execution": {
     "iopub.execute_input": "2021-12-01T07:45:46.635896Z",
     "iopub.status.busy": "2021-12-01T07:45:46.635440Z",
     "iopub.status.idle": "2021-12-01T07:45:46.654792Z",
     "shell.execute_reply": "2021-12-01T07:45:46.653627Z",
     "shell.execute_reply.started": "2021-12-01T07:45:46.635851Z"
    }
   },
   "outputs": [],
   "source": [
    "df_test.head(5)"
   ]
  },
  {
   "cell_type": "code",
   "execution_count": 9,
   "metadata": {
    "execution": {
     "iopub.execute_input": "2021-12-01T07:45:47.393068Z",
     "iopub.status.busy": "2021-12-01T07:45:47.392758Z",
     "iopub.status.idle": "2021-12-01T07:45:47.404022Z",
     "shell.execute_reply": "2021-12-01T07:45:47.402850Z",
     "shell.execute_reply.started": "2021-12-01T07:45:47.393020Z"
    }
   },
   "outputs": [],
   "source": [
    "sample_submission.head(5)"
   ]
  },
  {
   "cell_type": "code",
   "execution_count": 10,
   "metadata": {
    "execution": {
     "iopub.execute_input": "2021-12-01T07:45:50.036858Z",
     "iopub.status.busy": "2021-12-01T07:45:50.036483Z",
     "iopub.status.idle": "2021-12-01T07:45:50.046807Z",
     "shell.execute_reply": "2021-12-01T07:45:50.045875Z",
     "shell.execute_reply.started": "2021-12-01T07:45:50.036796Z"
    }
   },
   "outputs": [],
   "source": [
    "sample_submission.info()"
   ]
  },
  {
   "cell_type": "code",
   "execution_count": 11,
   "metadata": {
    "execution": {
     "iopub.execute_input": "2021-12-01T07:45:50.359525Z",
     "iopub.status.busy": "2021-12-01T07:45:50.358823Z",
     "iopub.status.idle": "2021-12-01T07:45:50.415373Z",
     "shell.execute_reply": "2021-12-01T07:45:50.414369Z",
     "shell.execute_reply.started": "2021-12-01T07:45:50.359457Z"
    }
   },
   "outputs": [],
   "source": [
    "# ВАЖНО! дря корректной обработки признаков объединяем трейн и тест в один датасет\n",
    "df_train['sample'] = 1 # помечаем где у нас трейн\n",
    "df_test['sample'] = 0 # помечаем где у нас тест\n",
    "df_test['Rating'] = 0 # в тесте у нас нет значения Rating, мы его должны предсказать, по этому пока просто заполняем нулями\n",
    "\n",
    "data = df_test.append(df_train, sort=False).reset_index(drop=True) # объединяем"
   ]
  },
  {
   "cell_type": "code",
   "execution_count": 12,
   "metadata": {
    "execution": {
     "iopub.execute_input": "2021-12-01T07:45:50.781024Z",
     "iopub.status.busy": "2021-12-01T07:45:50.780703Z",
     "iopub.status.idle": "2021-12-01T07:45:50.825283Z",
     "shell.execute_reply": "2021-12-01T07:45:50.824429Z",
     "shell.execute_reply.started": "2021-12-01T07:45:50.780975Z"
    }
   },
   "outputs": [],
   "source": [
    "data.info()"
   ]
  },
  {
   "cell_type": "markdown",
   "metadata": {},
   "source": [
    "Подробнее по признакам:\n",
    "* City: Город \n",
    "* Cuisine Style: Кухня\n",
    "* Ranking: Ранг ресторана относительно других ресторанов в этом городе\n",
    "* Price Range: Цены в ресторане в 3 категориях\n",
    "* Number of Reviews: Количество отзывов\n",
    "* Reviews: 2 последних отзыва и даты этих отзывов\n",
    "* URL_TA: страница ресторана на 'www.tripadvisor.com' \n",
    "* ID_TA: ID ресторана в TripAdvisor\n",
    "* Rating: Рейтинг ресторана"
   ]
  },
  {
   "cell_type": "code",
   "execution_count": 13,
   "metadata": {
    "execution": {
     "iopub.execute_input": "2021-12-01T07:45:54.504722Z",
     "iopub.status.busy": "2021-12-01T07:45:54.504173Z",
     "iopub.status.idle": "2021-12-01T07:45:54.529193Z",
     "shell.execute_reply": "2021-12-01T07:45:54.528222Z",
     "shell.execute_reply.started": "2021-12-01T07:45:54.504637Z"
    }
   },
   "outputs": [],
   "source": [
    "data.sample(5)"
   ]
  },
  {
   "cell_type": "code",
   "execution_count": 14,
   "metadata": {
    "execution": {
     "iopub.execute_input": "2021-12-01T07:45:57.194011Z",
     "iopub.status.busy": "2021-12-01T07:45:57.193635Z",
     "iopub.status.idle": "2021-12-01T07:45:57.240076Z",
     "shell.execute_reply": "2021-12-01T07:45:57.238727Z",
     "shell.execute_reply.started": "2021-12-01T07:45:57.193947Z"
    }
   },
   "outputs": [],
   "source": [
    "# для удобства причешем название признаков\n",
    "data.columns = list(map(lambda x: x.replace(\" \",\"_\"), data.columns.str.lower()))\n",
    "data.info()"
   ]
  },
  {
   "cell_type": "code",
   "execution_count": 15,
   "metadata": {
    "execution": {
     "iopub.execute_input": "2021-12-01T07:45:57.769898Z",
     "iopub.status.busy": "2021-12-01T07:45:57.769450Z",
     "iopub.status.idle": "2021-12-01T07:45:57.808307Z",
     "shell.execute_reply": "2021-12-01T07:45:57.807351Z",
     "shell.execute_reply.started": "2021-12-01T07:45:57.769825Z"
    }
   },
   "outputs": [],
   "source": [
    "# сразу удаляем признак url_ta так как мы не будем использовать внешние данные с сайта TripAdvisor\n",
    "data = data.drop('url_ta',axis=1)\n",
    "data"
   ]
  },
  {
   "cell_type": "markdown",
   "metadata": {},
   "source": [
    "# ОЧИСТКА И РАБОТА С ПРИЗНАКАМИ\n",
    "Обычно данные содержат в себе кучу мусора, который необходимо почистить, для того чтобы привести их в приемлемый формат. Чистка данных — это необходимый этап решения почти любой реальной задачи.   "
   ]
  },
  {
   "cell_type": "markdown",
   "metadata": {},
   "source": [
    "## 1. Обработка NAN \n",
    "У наличия пропусков могут быть разные причины, но пропуски нужно либо заполнить, либо исключить из набора полностью. Но с пропусками нужно быть внимательным, **даже отсутствие информации может быть важным признаком!**   \n",
    "По этому перед обработкой NAN лучше вынести информацию о наличии пропуска как отдельный признак "
   ]
  },
  {
   "cell_type": "code",
   "execution_count": 16,
   "metadata": {
    "execution": {
     "iopub.execute_input": "2021-12-01T07:46:01.551207Z",
     "iopub.status.busy": "2021-12-01T07:46:01.550742Z",
     "iopub.status.idle": "2021-12-01T07:46:01.595365Z",
     "shell.execute_reply": "2021-12-01T07:46:01.594488Z",
     "shell.execute_reply.started": "2021-12-01T07:46:01.551166Z"
    }
   },
   "outputs": [],
   "source": [
    "# процентное соотношение пропусков для каждого признака\n",
    "# ВЫВОД: признак price_range содержит более 30% пропусков - по правилам его следует исключить (пока оставлю)\n",
    "for col in data.columns:\n",
    "    pct_missing = np.mean(data[col].isnull())\n",
    "    print('{} - {}%'.format(col, round(pct_missing*100)))"
   ]
  },
  {
   "cell_type": "code",
   "execution_count": 17,
   "metadata": {
    "execution": {
     "iopub.execute_input": "2021-12-01T07:46:05.029823Z",
     "iopub.status.busy": "2021-12-01T07:46:05.029467Z",
     "iopub.status.idle": "2021-12-01T07:46:05.202745Z",
     "shell.execute_reply": "2021-12-01T07:46:05.201844Z",
     "shell.execute_reply.started": "2021-12-01T07:46:05.029760Z"
    }
   },
   "outputs": [],
   "source": [
    "# проверяем наличие списка в данных типа object\n",
    "# ВЫВОД: несмотря на наличие квадратных скобок - списков в датасете НЕТ\n",
    "l = data.sample(2).applymap(type).astype(str) == \"<class 'list'>\"\n",
    "l"
   ]
  },
  {
   "cell_type": "code",
   "execution_count": 18,
   "metadata": {
    "execution": {
     "iopub.execute_input": "2021-12-01T07:46:05.204958Z",
     "iopub.status.busy": "2021-12-01T07:46:05.204532Z",
     "iopub.status.idle": "2021-12-01T07:46:05.272693Z",
     "shell.execute_reply": "2021-12-01T07:46:05.271925Z",
     "shell.execute_reply.started": "2021-12-01T07:46:05.204896Z"
    }
   },
   "outputs": [],
   "source": [
    "# создаем новые признаки для значений NaN\n",
    "data['cuisine_style_isNaN'] = pd.isna(data['cuisine_style']).astype('uint8')\n",
    "data['price_range_isNaN'] = pd.isna(data['price_range']).astype('uint8')\n",
    "data['number_of_reviews_isNaN'] = pd.isna(data['number_of_reviews']).astype('uint8')\n",
    "\n",
    "# визуально в признаке reviews есть и пропуски NaN, и значения вида '[[], []]'.\n",
    "# приведем их к единому виду '[[], []]' и сбросим эти значения в новый признак\n",
    "data['reviews'] = data['reviews'].fillna('[[], []]')\n",
    "data['reviews_isNaN'] = data['reviews'].apply(lambda x: int(x ==  '[[], []]'))"
   ]
  },
  {
   "cell_type": "code",
   "execution_count": 19,
   "metadata": {
    "execution": {
     "iopub.execute_input": "2021-12-01T07:46:08.330030Z",
     "iopub.status.busy": "2021-12-01T07:46:08.329557Z",
     "iopub.status.idle": "2021-12-01T07:46:08.373221Z",
     "shell.execute_reply": "2021-12-01T07:46:08.372281Z",
     "shell.execute_reply.started": "2021-12-01T07:46:08.329984Z"
    }
   },
   "outputs": [],
   "source": [
    "data.info()"
   ]
  },
  {
   "cell_type": "code",
   "execution_count": 20,
   "metadata": {
    "execution": {
     "iopub.execute_input": "2021-12-01T07:46:08.624901Z",
     "iopub.status.busy": "2021-12-01T07:46:08.624413Z",
     "iopub.status.idle": "2021-12-01T07:46:08.770586Z",
     "shell.execute_reply": "2021-12-01T07:46:08.769806Z",
     "shell.execute_reply.started": "2021-12-01T07:46:08.624833Z"
    }
   },
   "outputs": [],
   "source": [
    "data.nunique()"
   ]
  },
  {
   "cell_type": "markdown",
   "metadata": {},
   "source": [
    "#### restaurant_id"
   ]
  },
  {
   "cell_type": "code",
   "execution_count": 21,
   "metadata": {
    "execution": {
     "iopub.execute_input": "2021-12-01T07:46:11.155445Z",
     "iopub.status.busy": "2021-12-01T07:46:11.154957Z",
     "iopub.status.idle": "2021-12-01T07:46:11.245089Z",
     "shell.execute_reply": "2021-12-01T07:46:11.244321Z",
     "shell.execute_reply.started": "2021-12-01T07:46:11.155380Z"
    }
   },
   "outputs": [],
   "source": [
    "# убираем приставку id_\n",
    "data['restaurant_id'] = data.restaurant_id.str.replace('id_', '')\n",
    "# преобразовываем restaurant_id тип данных из object в int\n",
    "data['restaurant_id'] = data['restaurant_id'].astype(str).astype(int)"
   ]
  },
  {
   "cell_type": "markdown",
   "metadata": {},
   "source": [
    "#### cuisine_style"
   ]
  },
  {
   "cell_type": "code",
   "execution_count": 22,
   "metadata": {
    "execution": {
     "iopub.execute_input": "2021-12-01T07:46:15.004535Z",
     "iopub.status.busy": "2021-12-01T07:46:15.004041Z",
     "iopub.status.idle": "2021-12-01T07:46:15.167639Z",
     "shell.execute_reply": "2021-12-01T07:46:15.166858Z",
     "shell.execute_reply.started": "2021-12-01T07:46:15.004475Z"
    }
   },
   "outputs": [],
   "source": [
    "# заменяем пропуски NaN на значение 'regional'\n",
    "data['cuisine_style'] = data['cuisine_style'].fillna('regional')\n",
    "# чистим данные, заменяя '[' и ']' на пробелы\n",
    "data['cuisine_style'] = [x.replace(']', '') for x in data['cuisine_style']]\n",
    "data['cuisine_style'] = [x.replace('[', '') for x in data['cuisine_style']]\n",
    "\n",
    "# объединяем названия кухонь в единый список с помощью str.cat (конкатенация) \n",
    "# потом вновь делим по отдельным значениям кухонь, создаем серию и считаем количество каждой кухни\n",
    "cuisine_list = pd.Series(data['cuisine_style'].str.cat(sep=', ').split(', ')).value_counts()\n",
    "cuisine_list"
   ]
  },
  {
   "cell_type": "code",
   "execution_count": 23,
   "metadata": {
    "execution": {
     "iopub.execute_input": "2021-12-01T07:46:15.304012Z",
     "iopub.status.busy": "2021-12-01T07:46:15.303648Z",
     "iopub.status.idle": "2021-12-01T07:46:15.362225Z",
     "shell.execute_reply": "2021-12-01T07:46:15.361397Z",
     "shell.execute_reply.started": "2021-12-01T07:46:15.303951Z"
    }
   },
   "outputs": [],
   "source": [
    "# создаем новый признак для указания количества кухонь по каждому ресторану\n",
    "data['cuisine_count'] = [len(x.split(', ')) for x in data['cuisine_style']]"
   ]
  },
  {
   "cell_type": "markdown",
   "metadata": {},
   "source": [
    "#### price_range"
   ]
  },
  {
   "cell_type": "code",
   "execution_count": 24,
   "metadata": {
    "execution": {
     "iopub.execute_input": "2021-12-01T07:46:18.240993Z",
     "iopub.status.busy": "2021-12-01T07:46:18.240342Z",
     "iopub.status.idle": "2021-12-01T07:46:18.303213Z",
     "shell.execute_reply": "2021-12-01T07:46:18.302222Z",
     "shell.execute_reply.started": "2021-12-01T07:46:18.240936Z"
    }
   },
   "outputs": [],
   "source": [
    "# количество каждого из значений по колонке Price Range\n",
    "# заменяем значение NaN на 'no data'\n",
    "data['price_range'] = data['price_range'].fillna('no data')\n",
    "data['price_range'].value_counts(dropna=False).sort_index(ascending=True)\n",
    "# создаем словарь замены номинальных значений на количественные\n",
    "# присваиваем значению 'no data' параметр 2 равные категории '$$ - $$$' как наиболее часто встречающейся\n",
    "range_dict = {'$$$$': 3, '$$ - $$$': 2, '$': 1, 'no data': 2}\n",
    "# заменяем номинальные значения в Price Range на значения из созданного словаря\n",
    "data['price_range'] = data['price_range'].replace(to_replace = range_dict)"
   ]
  },
  {
   "cell_type": "markdown",
   "metadata": {},
   "source": [
    "#### number_of_reviews"
   ]
  },
  {
   "cell_type": "code",
   "execution_count": 25,
   "metadata": {
    "execution": {
     "iopub.execute_input": "2021-12-01T07:46:18.956673Z",
     "iopub.status.busy": "2021-12-01T07:46:18.956317Z",
     "iopub.status.idle": "2021-12-01T07:46:18.965573Z",
     "shell.execute_reply": "2021-12-01T07:46:18.964679Z",
     "shell.execute_reply.started": "2021-12-01T07:46:18.956598Z"
    }
   },
   "outputs": [],
   "source": [
    "# заменяем пропуски NaN средним арифметическим значением \n",
    "replace = np.round(data['number_of_reviews'].mean())\n",
    "data['number_of_reviews'] = data['number_of_reviews'].fillna(replace)"
   ]
  },
  {
   "cell_type": "markdown",
   "metadata": {},
   "source": [
    "#### reviews"
   ]
  },
  {
   "cell_type": "code",
   "execution_count": 26,
   "metadata": {
    "execution": {
     "iopub.execute_input": "2021-12-01T07:46:22.058164Z",
     "iopub.status.busy": "2021-12-01T07:46:22.057560Z",
     "iopub.status.idle": "2021-12-01T07:46:22.109842Z",
     "shell.execute_reply": "2021-12-01T07:46:22.109074Z",
     "shell.execute_reply.started": "2021-12-01T07:46:22.058115Z"
    }
   },
   "outputs": [],
   "source": [
    "# мы хотим: вытащить дату первого и второго отзывов, посчитать между ними разницу\n",
    "# вытаскиваем дату первого и второго отзыва\n",
    "date_1 = data['reviews'].str[-27:-17]\n",
    "date_2 = data['reviews'].str[-13:-3]"
   ]
  },
  {
   "cell_type": "code",
   "execution_count": 27,
   "metadata": {
    "execution": {
     "iopub.execute_input": "2021-12-01T07:46:22.399695Z",
     "iopub.status.busy": "2021-12-01T07:46:22.399216Z",
     "iopub.status.idle": "2021-12-01T07:46:22.455871Z",
     "shell.execute_reply": "2021-12-01T07:46:22.455067Z",
     "shell.execute_reply.started": "2021-12-01T07:46:22.399639Z"
    }
   },
   "outputs": [],
   "source": [
    "# приводим обе даты к формату datetime\n",
    "date_1 = pd.to_datetime(date_1, format = '%m/%d/%Y', errors='coerce')\n",
    "date_2 = pd.to_datetime(date_2, format = '%m/%d/%Y', errors='coerce')"
   ]
  },
  {
   "cell_type": "code",
   "execution_count": 28,
   "metadata": {
    "execution": {
     "iopub.execute_input": "2021-12-01T07:46:22.730397Z",
     "iopub.status.busy": "2021-12-01T07:46:22.730030Z",
     "iopub.status.idle": "2021-12-01T07:46:22.745559Z",
     "shell.execute_reply": "2021-12-01T07:46:22.744688Z",
     "shell.execute_reply.started": "2021-12-01T07:46:22.730335Z"
    }
   },
   "outputs": [],
   "source": [
    "# считаем разницу между отзывами и берем значение по модулю, так как даты могут быть перепутаны\n",
    "# тогда вылезет отрицательное значение дельты (абсолютные цифры будут одинаковыми)\n",
    "dates_gap = abs(date_1 - date_2)\n",
    "# из типа timedelta приводим к типу int и заполняем пропуски NaN нулями\n",
    "dates_gap = pd.to_numeric(dates_gap.dt.days, downcast='integer').fillna(0)\n",
    "dates_gap"
   ]
  },
  {
   "cell_type": "code",
   "execution_count": 29,
   "metadata": {
    "execution": {
     "iopub.execute_input": "2021-12-01T07:46:23.041710Z",
     "iopub.status.busy": "2021-12-01T07:46:23.041212Z",
     "iopub.status.idle": "2021-12-01T07:46:23.048491Z",
     "shell.execute_reply": "2021-12-01T07:46:23.047537Z",
     "shell.execute_reply.started": "2021-12-01T07:46:23.041490Z"
    }
   },
   "outputs": [],
   "source": [
    "# пробуем вытащить из текста отзывов ключевые слова для определения оттенка отзыва\n",
    "# создаем два вида словаря и помещаем выборку ключевых слов (определили визуально по тексту)\n",
    "positive = ['excellent', 'great', 'perfect', 'exceptional', 'best', 'unique',\n",
    "            'brilliant', 'lovely', 'outstanding', 'amazing', 'delicious', 'very good',\n",
    "            'awesome', 'fabulous', 'super', 'fantastic', 'gem', 'superb','good', \n",
    "            'nice', 'tasty', 'beautiful', 'fresh', 'yummy', 'cool']\n",
    "negative = ['not bad', 'simple', 'not exceptional', 'poor''bad', 'wasting', 'disappointment', \n",
    "            'burnt food', 'refund', 'do not eat',\n",
    "            'disgusting', 'awful', 'poor', 'limited', 'down', 'avoid', 'did not enjoy',\n",
    "            'not ok', 'horrible', 'worst', 'terrible']"
   ]
  },
  {
   "cell_type": "markdown",
   "metadata": {},
   "source": [
    "#### id_ta"
   ]
  },
  {
   "cell_type": "code",
   "execution_count": 30,
   "metadata": {
    "execution": {
     "iopub.execute_input": "2021-12-01T07:46:26.406207Z",
     "iopub.status.busy": "2021-12-01T07:46:26.405622Z",
     "iopub.status.idle": "2021-12-01T07:46:26.443544Z",
     "shell.execute_reply": "2021-12-01T07:46:26.442571Z",
     "shell.execute_reply.started": "2021-12-01T07:46:26.405918Z"
    }
   },
   "outputs": [],
   "source": [
    "# убрали первый символ d и сделали целым числом\n",
    "data['id_ta'] = data['id_ta'].apply(lambda x: x[1:]).astype(int)"
   ]
  },
  {
   "cell_type": "markdown",
   "metadata": {},
   "source": [
    "### 2. Cоздание новых признаков (Feature Engenearing)"
   ]
  },
  {
   "cell_type": "code",
   "execution_count": 31,
   "metadata": {
    "execution": {
     "iopub.execute_input": "2021-12-01T07:46:27.298027Z",
     "iopub.status.busy": "2021-12-01T07:46:27.297363Z",
     "iopub.status.idle": "2021-12-01T07:46:27.342023Z",
     "shell.execute_reply": "2021-12-01T07:46:27.341221Z",
     "shell.execute_reply.started": "2021-12-01T07:46:27.297619Z"
    }
   },
   "outputs": [],
   "source": [
    "# количество жителей по городам\n",
    "population = {'Paris': 2140526, 'Stockholm': 961609, 'London': 8787892, \n",
    "              'Berlin': 3601131, 'Munich': 1456039, 'Oporto': 221800, \n",
    "              'Milan': 1366180, 'Bratislava': 437725, 'Vienna': 1840573, \n",
    "              'Rome':2872800, 'Barcelona':  1620343, 'Madrid': 3223334,\n",
    "              'Dublin' : 553165, 'Brussels' : 1198726, 'Zurich' : 434008, \n",
    "              'Warsaw' : 1702139, 'Budapest' : 1752286, 'Copenhagen' : 615993,\n",
    "              'Amsterdam' : 859732, 'Lyon' : 515695, 'Hamburg' : 1830584, \n",
    "              'Lisbon': 553000, 'Prague' : 1280508, 'Oslo' : 673469,\n",
    "              'Helsinki' : 643272, 'Edinburgh': 513210 , 'Geneva': 201818, \n",
    "              'Ljubljana' : 284355, 'Athens' : 655780, 'Luxembourg' : 122273,\n",
    "              'Krakow' : 779115}\n",
    "\n",
    "\n",
    "data['population'] = data['city'].apply(lambda x: population[x])"
   ]
  },
  {
   "cell_type": "code",
   "execution_count": 32,
   "metadata": {
    "execution": {
     "iopub.execute_input": "2021-12-01T07:46:29.532957Z",
     "iopub.status.busy": "2021-12-01T07:46:29.532289Z",
     "iopub.status.idle": "2021-12-01T07:46:29.576493Z",
     "shell.execute_reply": "2021-12-01T07:46:29.575378Z",
     "shell.execute_reply.started": "2021-12-01T07:46:29.532906Z"
    }
   },
   "outputs": [],
   "source": [
    "# количество туристов по городам\n",
    "\n",
    "tourists = {'Paris': 17560200, 'Stockholm': 2604600, 'London': 19233000, \n",
    "              'Berlin': 5959400, 'Munich': 4066600, 'Oporto': 2341300, \n",
    "              'Milan': 6481300, 'Bratislava': 1285200, 'Vienna': 6410300, \n",
    "              'Rome': 10065400, 'Barcelona':  6714500, 'Madrid': 5440100,\n",
    "              'Dublin' : 5213400, 'Brussels' : 3942000, 'Zurich' : 2240000, \n",
    "              'Warsaw' : 2850000, 'Budapest' : 3822800, 'Copenhagen' :3069700,\n",
    "              'Amsterdam' : 8354200, 'Lyon' : 6000000, 'Hamburg' : 1450000, \n",
    "              'Lisbon': 3539400, 'Prague' : 8948600, 'Oslo' : 1300000,\n",
    "              'Helsinki' : 4167982, 'Edinburgh': 1660000, 'Geneva': 1150000, \n",
    "              'Ljubljana' : 1300000, 'Athens' : 5728400, 'Luxembourg':1300000,\n",
    "              'Krakow' : 2732000}\n",
    "\n",
    "data['tourists'] = data['city'].apply(lambda x: tourists[x])"
   ]
  },
  {
   "cell_type": "code",
   "execution_count": 33,
   "metadata": {
    "execution": {
     "iopub.execute_input": "2021-12-01T07:46:29.870850Z",
     "iopub.status.busy": "2021-12-01T07:46:29.870379Z",
     "iopub.status.idle": "2021-12-01T07:46:29.976344Z",
     "shell.execute_reply": "2021-12-01T07:46:29.975565Z",
     "shell.execute_reply.started": "2021-12-01T07:46:29.870788Z"
    }
   },
   "outputs": [],
   "source": [
    "# количество ресторанов в каждом городе\n",
    "restorants_in_city = data.groupby(data.city)['ranking'].count().to_dict()\n",
    "data['restaurants_in_city'] = data.city.map(restorants_in_city)\n",
    "\n",
    "# количество ресторанов на 1000 горожан\n",
    "rests_for_citizens = data['restaurants_in_city'] / (data['population']*1000)\n",
    "# количество ресторанов на 10000 туристов\n",
    "rests_for_tourists = data['restaurants_in_city'] / (data['tourists']*10000)\n",
    "\n",
    "data['rests_for_citizens'] = rests_for_citizens\n",
    "data['rests_for_turistis'] = rests_for_tourists"
   ]
  },
  {
   "cell_type": "code",
   "execution_count": 34,
   "metadata": {
    "execution": {
     "iopub.execute_input": "2021-12-01T07:46:32.076307Z",
     "iopub.status.busy": "2021-12-01T07:46:32.075647Z",
     "iopub.status.idle": "2021-12-01T07:46:32.084076Z",
     "shell.execute_reply": "2021-12-01T07:46:32.083203Z",
     "shell.execute_reply.started": "2021-12-01T07:46:32.076237Z"
    }
   },
   "outputs": [],
   "source": [
    "# средний рейтинг ресторана\n",
    "data['average_rank'] = data['ranking'] / data['restaurants_in_city']"
   ]
  },
  {
   "cell_type": "code",
   "execution_count": 35,
   "metadata": {
    "execution": {
     "iopub.execute_input": "2021-12-01T07:46:32.379488Z",
     "iopub.status.busy": "2021-12-01T07:46:32.379176Z",
     "iopub.status.idle": "2021-12-01T07:46:32.410618Z",
     "shell.execute_reply": "2021-12-01T07:46:32.409929Z",
     "shell.execute_reply.started": "2021-12-01T07:46:32.379440Z"
    }
   },
   "outputs": [],
   "source": [
    "# среднее количество кухонь по ресторанам в городе\n",
    "average_cousines = round(data.groupby(data.city)['cuisine_count'].mean()).to_dict()\n",
    "data['average_cousines'] = data.city.map(average_cousines)"
   ]
  },
  {
   "cell_type": "code",
   "execution_count": 36,
   "metadata": {
    "execution": {
     "iopub.execute_input": "2021-12-01T07:46:34.025057Z",
     "iopub.status.busy": "2021-12-01T07:46:34.024693Z",
     "iopub.status.idle": "2021-12-01T07:46:34.114634Z",
     "shell.execute_reply": "2021-12-01T07:46:34.113874Z",
     "shell.execute_reply.started": "2021-12-01T07:46:34.024996Z"
    }
   },
   "outputs": [],
   "source": [
    "# наличие в ресторане одной из 3-х самых популярных кухонь (кроме Regional = NaN)\n",
    "popular_cuisine = ['Vegetarian Friendly', 'European', 'Mediterranian']\n",
    "data['popular_cuisine'] = data['cuisine_style'].apply(lambda x: int(any(word in x for word in popular_cuisine)))"
   ]
  },
  {
   "cell_type": "code",
   "execution_count": 37,
   "metadata": {
    "execution": {
     "iopub.execute_input": "2021-12-01T07:46:34.371160Z",
     "iopub.status.busy": "2021-12-01T07:46:34.370641Z",
     "iopub.status.idle": "2021-12-01T07:46:34.807214Z",
     "shell.execute_reply": "2021-12-01T07:46:34.806256Z",
     "shell.execute_reply.started": "2021-12-01T07:46:34.371095Z"
    }
   },
   "outputs": [],
   "source": [
    "# признаки оттенка текста отзыва\n",
    "data['positive_review'] = data['reviews'].apply(lambda x: int(any(word in x for word in positive)))\n",
    "data['negative_review'] = data['reviews'].apply(lambda x: int(any(word in x for word in negative)))"
   ]
  },
  {
   "cell_type": "markdown",
   "metadata": {},
   "source": [
    "# EDA \n",
    "Анализ данных\n",
    "На этом этапе мы строим графики, ищем закономерности, аномалии, выбросы или связи между признаками.\n",
    "В общем цель этого этапа понять, что эти данные могут нам дать и как признаки могут быть взаимосвязаны между собой.\n",
    "Понимание изначальных признаков позволит сгенерировать новые, более сильные и, тем самым, сделать нашу модель лучше."
   ]
  },
  {
   "cell_type": "markdown",
   "metadata": {},
   "source": [
    "### Посмотрим распределение признака"
   ]
  },
  {
   "cell_type": "code",
   "execution_count": 38,
   "metadata": {
    "execution": {
     "iopub.execute_input": "2021-12-01T07:46:40.497190Z",
     "iopub.status.busy": "2021-12-01T07:46:40.496574Z",
     "iopub.status.idle": "2021-12-01T07:46:41.044139Z",
     "shell.execute_reply": "2021-12-01T07:46:41.043017Z",
     "shell.execute_reply.started": "2021-12-01T07:46:40.497137Z"
    }
   },
   "outputs": [],
   "source": [
    "plt.rcParams['figure.figsize'] = (10,7)\n",
    "df_train['Ranking'].hist(bins=100)"
   ]
  },
  {
   "cell_type": "markdown",
   "metadata": {},
   "source": [
    "У нас много ресторанов, которые не дотягивают и до 2500 места в своем городе, а что там по городам?"
   ]
  },
  {
   "cell_type": "code",
   "execution_count": 39,
   "metadata": {
    "execution": {
     "iopub.execute_input": "2021-12-01T07:46:42.257783Z",
     "iopub.status.busy": "2021-12-01T07:46:42.257433Z",
     "iopub.status.idle": "2021-12-01T07:46:42.826647Z",
     "shell.execute_reply": "2021-12-01T07:46:42.825834Z",
     "shell.execute_reply.started": "2021-12-01T07:46:42.257728Z"
    }
   },
   "outputs": [],
   "source": [
    "df_train['City'].value_counts(ascending=True).plot(kind='barh')"
   ]
  },
  {
   "cell_type": "markdown",
   "metadata": {},
   "source": [
    "А кто-то говорил, что французы любят поесть=) Посмотрим, как изменится распределение в большом городе:"
   ]
  },
  {
   "cell_type": "code",
   "execution_count": 40,
   "metadata": {
    "execution": {
     "iopub.execute_input": "2021-12-01T07:46:46.412042Z",
     "iopub.status.busy": "2021-12-01T07:46:46.411722Z",
     "iopub.status.idle": "2021-12-01T07:46:46.844882Z",
     "shell.execute_reply": "2021-12-01T07:46:46.843833Z",
     "shell.execute_reply.started": "2021-12-01T07:46:46.411991Z"
    }
   },
   "outputs": [],
   "source": [
    "df_train['Ranking'][df_train['City'] =='London'].hist(bins=100)"
   ]
  },
  {
   "cell_type": "code",
   "execution_count": 41,
   "metadata": {
    "execution": {
     "iopub.execute_input": "2021-12-01T07:46:49.128813Z",
     "iopub.status.busy": "2021-12-01T07:46:49.128218Z",
     "iopub.status.idle": "2021-12-01T07:46:51.912461Z",
     "shell.execute_reply": "2021-12-01T07:46:51.911598Z",
     "shell.execute_reply.started": "2021-12-01T07:46:49.128763Z"
    }
   },
   "outputs": [],
   "source": [
    "# посмотрим на топ 10 городов\n",
    "for x in (df_train['City'].value_counts())[0:10].index:\n",
    "    df_train['Ranking'][df_train['City'] == x].hist(bins=100)\n",
    "plt.show()"
   ]
  },
  {
   "cell_type": "markdown",
   "metadata": {},
   "source": [
    "Получается, что Ranking имеет нормальное распределение, просто в больших городах больше ресторанов, из-за мы этого имеем смещение.\n"
   ]
  },
  {
   "cell_type": "code",
   "execution_count": 42,
   "metadata": {
    "execution": {
     "iopub.execute_input": "2021-12-01T07:46:53.746735Z",
     "iopub.status.busy": "2021-12-01T07:46:53.746340Z",
     "iopub.status.idle": "2021-12-01T07:46:55.057146Z",
     "shell.execute_reply": "2021-12-01T07:46:55.056297Z",
     "shell.execute_reply.started": "2021-12-01T07:46:53.746673Z"
    }
   },
   "outputs": [],
   "source": [
    "# нормируем ранг ресторанов по городам\n",
    "mean_Ranking_on_City = data.groupby(['city'])['ranking'].mean()\n",
    "max_Ranking_on_City = data.groupby(['city'])['ranking'].max()\n",
    "data['max_Ranking_on_City'] = data['city'].apply(lambda x: max_Ranking_on_City[x])\n",
    "data['mean_Ranking_on_City'] = data['city'].apply(lambda x: mean_Ranking_on_City[x])\n",
    "data['norm_Ranking_on_maxRank_in_City'] = (data['ranking']) / (data['max_Ranking_on_City'])"
   ]
  },
  {
   "cell_type": "code",
   "execution_count": 43,
   "metadata": {
    "execution": {
     "iopub.execute_input": "2021-12-01T07:46:56.361710Z",
     "iopub.status.busy": "2021-12-01T07:46:56.361081Z",
     "iopub.status.idle": "2021-12-01T07:46:59.082843Z",
     "shell.execute_reply": "2021-12-01T07:46:59.081965Z",
     "shell.execute_reply.started": "2021-12-01T07:46:56.361639Z"
    }
   },
   "outputs": [],
   "source": [
    "# посмотрим на топ 10 городов\n",
    "for x in (data['city'].value_counts())[0:10].index:\n",
    "    data['norm_Ranking_on_maxRank_in_City'][data['city'] == x].hist(bins=100)\n",
    "plt.show()"
   ]
  },
  {
   "cell_type": "markdown",
   "metadata": {},
   "source": [
    "### Посмотрим распределение целевой переменной"
   ]
  },
  {
   "cell_type": "code",
   "execution_count": 44,
   "metadata": {
    "execution": {
     "iopub.execute_input": "2021-12-01T07:47:01.309600Z",
     "iopub.status.busy": "2021-12-01T07:47:01.309282Z",
     "iopub.status.idle": "2021-12-01T07:47:01.613919Z",
     "shell.execute_reply": "2021-12-01T07:47:01.612968Z",
     "shell.execute_reply.started": "2021-12-01T07:47:01.309551Z"
    }
   },
   "outputs": [],
   "source": [
    "df_train['Rating'].value_counts(ascending=True).plot(kind='barh')"
   ]
  },
  {
   "cell_type": "markdown",
   "metadata": {},
   "source": [
    "### Посмотрим распределение целевой переменной относительно признака"
   ]
  },
  {
   "cell_type": "code",
   "execution_count": 45,
   "metadata": {
    "execution": {
     "iopub.execute_input": "2021-12-01T07:47:05.148854Z",
     "iopub.status.busy": "2021-12-01T07:47:05.148154Z",
     "iopub.status.idle": "2021-12-01T07:47:05.860589Z",
     "shell.execute_reply": "2021-12-01T07:47:05.859690Z",
     "shell.execute_reply.started": "2021-12-01T07:47:05.148541Z"
    }
   },
   "outputs": [],
   "source": [
    "df_train['Ranking'][df_train['Rating'] == 5].hist(bins=100)"
   ]
  },
  {
   "cell_type": "code",
   "execution_count": 46,
   "metadata": {
    "execution": {
     "iopub.execute_input": "2021-12-01T07:47:05.862966Z",
     "iopub.status.busy": "2021-12-01T07:47:05.862430Z",
     "iopub.status.idle": "2021-12-01T07:47:06.389813Z",
     "shell.execute_reply": "2021-12-01T07:47:06.388956Z",
     "shell.execute_reply.started": "2021-12-01T07:47:05.862905Z"
    }
   },
   "outputs": [],
   "source": [
    "df_train['Ranking'][df_train['Rating'] < 4].hist(bins=100)"
   ]
  },
  {
   "cell_type": "markdown",
   "metadata": {},
   "source": [
    "### Корреляция признаков\n",
    "На этом графике уже сейчас вы сможете заметить, как признаки связаны между собой и с целевой переменной."
   ]
  },
  {
   "cell_type": "code",
   "execution_count": 47,
   "metadata": {
    "execution": {
     "iopub.execute_input": "2021-12-01T07:47:08.666164Z",
     "iopub.status.busy": "2021-12-01T07:47:08.665847Z",
     "iopub.status.idle": "2021-12-01T07:47:09.765926Z",
     "shell.execute_reply": "2021-12-01T07:47:09.764907Z",
     "shell.execute_reply.started": "2021-12-01T07:47:08.666117Z"
    }
   },
   "outputs": [],
   "source": [
    "plt.rcParams['figure.figsize'] = (15,10)\n",
    "sns.heatmap(data.drop(['sample'], axis=1).corr(),)"
   ]
  },
  {
   "cell_type": "markdown",
   "metadata": {},
   "source": [
    "### Отсмотр коллекции признаков"
   ]
  },
  {
   "cell_type": "code",
   "execution_count": 48,
   "metadata": {
    "execution": {
     "iopub.execute_input": "2021-12-01T07:47:12.679166Z",
     "iopub.status.busy": "2021-12-01T07:47:12.678840Z",
     "iopub.status.idle": "2021-12-01T07:47:27.203204Z",
     "shell.execute_reply": "2021-12-01T07:47:27.202196Z",
     "shell.execute_reply.started": "2021-12-01T07:47:12.679118Z"
    }
   },
   "outputs": [],
   "source": [
    "data.hist(figsize=(20, 20), bins=100);\n",
    "plt.tight_layout()"
   ]
  },
  {
   "cell_type": "code",
   "execution_count": 49,
   "metadata": {
    "execution": {
     "iopub.execute_input": "2021-12-01T07:47:27.205821Z",
     "iopub.status.busy": "2021-12-01T07:47:27.205486Z",
     "iopub.status.idle": "2021-12-01T07:47:30.610228Z",
     "shell.execute_reply": "2021-12-01T07:47:30.609270Z",
     "shell.execute_reply.started": "2021-12-01T07:47:27.205759Z"
    }
   },
   "outputs": [],
   "source": [
    "plt.rcParams['figure.figsize'] = (15,15)\n",
    "sns.heatmap(data.corr(), square=True, annot=True, fmt=\".1f\", linewidths=0.1,\n",
    "                                                                cmap=\"RdBu\");\n",
    "plt.tight_layout()"
   ]
  },
  {
   "cell_type": "code",
   "execution_count": 50,
   "metadata": {
    "execution": {
     "iopub.execute_input": "2021-12-01T07:47:30.612140Z",
     "iopub.status.busy": "2021-12-01T07:47:30.611855Z",
     "iopub.status.idle": "2021-12-01T07:47:30.727460Z",
     "shell.execute_reply": "2021-12-01T07:47:30.726565Z",
     "shell.execute_reply.started": "2021-12-01T07:47:30.612087Z"
    }
   },
   "outputs": [],
   "source": [
    "data.corr()"
   ]
  },
  {
   "cell_type": "markdown",
   "metadata": {},
   "source": [
    "### DUMMIES"
   ]
  },
  {
   "cell_type": "code",
   "execution_count": 51,
   "metadata": {
    "execution": {
     "iopub.execute_input": "2021-12-01T07:47:37.880830Z",
     "iopub.status.busy": "2021-12-01T07:47:37.880470Z",
     "iopub.status.idle": "2021-12-01T07:47:52.737238Z",
     "shell.execute_reply": "2021-12-01T07:47:52.736330Z",
     "shell.execute_reply.started": "2021-12-01T07:47:37.880767Z"
    }
   },
   "outputs": [],
   "source": [
    "# применяем для признаков с типом object: 'city'\n",
    "data = pd.concat([data, pd.get_dummies(data['city'].apply(pd.Series).stack())\n",
    "                                                      .sum(level=0)], axis=1)"
   ]
  },
  {
   "cell_type": "code",
   "execution_count": 52,
   "metadata": {
    "execution": {
     "iopub.execute_input": "2021-12-01T07:47:55.198067Z",
     "iopub.status.busy": "2021-12-01T07:47:55.197744Z",
     "iopub.status.idle": "2021-12-01T07:47:55.220085Z",
     "shell.execute_reply": "2021-12-01T07:47:55.219278Z",
     "shell.execute_reply.started": "2021-12-01T07:47:55.198017Z"
    }
   },
   "outputs": [],
   "source": [
    "# удаляем столбцы признаков object, которые мы уже использовали для Feature Engenearing\n",
    "data.drop(['city', 'cuisine_style', 'reviews'], axis=1, inplace=True)"
   ]
  },
  {
   "cell_type": "markdown",
   "metadata": {},
   "source": [
    "#### Запускаем и проверяем что получилось"
   ]
  },
  {
   "cell_type": "code",
   "execution_count": 53,
   "metadata": {
    "execution": {
     "iopub.execute_input": "2021-12-01T07:47:57.573574Z",
     "iopub.status.busy": "2021-12-01T07:47:57.573276Z",
     "iopub.status.idle": "2021-12-01T07:47:57.606479Z",
     "shell.execute_reply": "2021-12-01T07:47:57.605632Z",
     "shell.execute_reply.started": "2021-12-01T07:47:57.573538Z"
    }
   },
   "outputs": [],
   "source": [
    "df_preproc = data\n",
    "df_preproc.sample(10)"
   ]
  },
  {
   "cell_type": "code",
   "execution_count": 54,
   "metadata": {
    "execution": {
     "iopub.execute_input": "2021-12-01T07:48:03.570050Z",
     "iopub.status.busy": "2021-12-01T07:48:03.569701Z",
     "iopub.status.idle": "2021-12-01T07:48:03.607859Z",
     "shell.execute_reply": "2021-12-01T07:48:03.606922Z",
     "shell.execute_reply.started": "2021-12-01T07:48:03.569989Z"
    }
   },
   "outputs": [],
   "source": [
    "# выделим тестовую часть\n",
    "train_data = df_preproc.query('sample == 1').drop(['sample'], axis=1)\n",
    "test_data = df_preproc.query('sample == 0').drop(['sample'], axis=1)\n",
    "\n",
    "y = train_data.rating.values            # наш таргет\n",
    "X = train_data.drop(['rating'], axis=1)"
   ]
  },
  {
   "cell_type": "markdown",
   "metadata": {},
   "source": [
    "**Перед тем как отправлять наши данные на обучение, разделим данные на еще один тест и трейн, для валидации. \n",
    "Это поможет нам проверить, как хорошо наша модель работает, до отправки submissiona на kaggle.**"
   ]
  },
  {
   "cell_type": "code",
   "execution_count": 55,
   "metadata": {
    "execution": {
     "iopub.execute_input": "2021-12-01T07:48:07.609265Z",
     "iopub.status.busy": "2021-12-01T07:48:07.608731Z",
     "iopub.status.idle": "2021-12-01T07:48:07.632044Z",
     "shell.execute_reply": "2021-12-01T07:48:07.630931Z",
     "shell.execute_reply.started": "2021-12-01T07:48:07.609199Z"
    }
   },
   "outputs": [],
   "source": [
    "# Воспользуемся специальной функцие train_test_split для разбивки тестовых данных\n",
    "# выделим 20% данных на валидацию (параметр test_size)\n",
    "X_train, X_test, y_train, y_test = train_test_split(X, y, test_size=0.2, random_state=RANDOM_SEED)"
   ]
  },
  {
   "cell_type": "code",
   "execution_count": 56,
   "metadata": {
    "execution": {
     "iopub.execute_input": "2021-12-01T07:48:08.133705Z",
     "iopub.status.busy": "2021-12-01T07:48:08.133387Z",
     "iopub.status.idle": "2021-12-01T07:48:08.141009Z",
     "shell.execute_reply": "2021-12-01T07:48:08.139798Z",
     "shell.execute_reply.started": "2021-12-01T07:48:08.133643Z"
    }
   },
   "outputs": [],
   "source": [
    "# проверяем\n",
    "test_data.shape, train_data.shape, X.shape, X_train.shape, X_test.shape"
   ]
  },
  {
   "cell_type": "markdown",
   "metadata": {},
   "source": [
    "# Model \n",
    "Сам ML"
   ]
  },
  {
   "cell_type": "code",
   "execution_count": 57,
   "metadata": {
    "execution": {
     "iopub.execute_input": "2021-12-01T07:48:11.960034Z",
     "iopub.status.busy": "2021-12-01T07:48:11.959395Z",
     "iopub.status.idle": "2021-12-01T07:48:12.139365Z",
     "shell.execute_reply": "2021-12-01T07:48:12.138473Z",
     "shell.execute_reply.started": "2021-12-01T07:48:11.959682Z"
    }
   },
   "outputs": [],
   "source": [
    "# Импортируем необходимые библиотеки:\n",
    "from sklearn.ensemble import RandomForestRegressor # инструмент для создания и обучения модели\n",
    "from sklearn import metrics # инструменты для оценки точности модели"
   ]
  },
  {
   "cell_type": "code",
   "execution_count": 58,
   "metadata": {
    "execution": {
     "iopub.execute_input": "2021-12-01T07:48:15.038112Z",
     "iopub.status.busy": "2021-12-01T07:48:15.037770Z",
     "iopub.status.idle": "2021-12-01T07:48:15.043162Z",
     "shell.execute_reply": "2021-12-01T07:48:15.042067Z",
     "shell.execute_reply.started": "2021-12-01T07:48:15.038055Z"
    }
   },
   "outputs": [],
   "source": [
    "# Создаём модель (НАСТРОЙКИ НЕ ТРОГАЕМ)\n",
    "model = RandomForestRegressor(n_estimators=100, verbose=1, n_jobs=-1, random_state=RANDOM_SEED)"
   ]
  },
  {
   "cell_type": "code",
   "execution_count": 59,
   "metadata": {
    "execution": {
     "iopub.execute_input": "2021-12-01T07:48:15.538275Z",
     "iopub.status.busy": "2021-12-01T07:48:15.537686Z",
     "iopub.status.idle": "2021-12-01T07:48:29.652942Z",
     "shell.execute_reply": "2021-12-01T07:48:29.652170Z",
     "shell.execute_reply.started": "2021-12-01T07:48:15.538224Z"
    }
   },
   "outputs": [],
   "source": [
    "# Обучаем модель на тестовом наборе данных\n",
    "model.fit(X_train, y_train)\n",
    "\n",
    "# Используем обученную модель для предсказания рейтинга ресторанов в тестовой выборке.\n",
    "# Предсказанные значения записываем в переменную y_pred\n",
    "y_pred = model.predict(X_test)"
   ]
  },
  {
   "cell_type": "code",
   "execution_count": 60,
   "metadata": {
    "execution": {
     "iopub.execute_input": "2021-12-01T07:48:35.606410Z",
     "iopub.status.busy": "2021-12-01T07:48:35.606121Z",
     "iopub.status.idle": "2021-12-01T07:48:35.612137Z",
     "shell.execute_reply": "2021-12-01T07:48:35.611408Z",
     "shell.execute_reply.started": "2021-12-01T07:48:35.606374Z"
    }
   },
   "outputs": [],
   "source": [
    "# Сравниваем предсказанные значения (y_pred) с реальными (y_test), и смотрим насколько они в среднем отличаются\n",
    "# Метрика называется Mean Absolute Error (MAE) и показывает среднее отклонение предсказанных значений от фактических.\n",
    "print('MAE:', metrics.mean_absolute_error(y_test, y_pred))"
   ]
  },
  {
   "cell_type": "code",
   "execution_count": 61,
   "metadata": {
    "execution": {
     "iopub.execute_input": "2021-12-01T07:48:38.434901Z",
     "iopub.status.busy": "2021-12-01T07:48:38.434271Z",
     "iopub.status.idle": "2021-12-01T07:48:38.932558Z",
     "shell.execute_reply": "2021-12-01T07:48:38.931508Z",
     "shell.execute_reply.started": "2021-12-01T07:48:38.434820Z"
    }
   },
   "outputs": [],
   "source": [
    "# в RandomForestRegressor есть возможность вывести самые важные признаки для модели\n",
    "plt.rcParams['figure.figsize'] = (10,10)\n",
    "feat_importances = pd.Series(model.feature_importances_, index=X.columns)\n",
    "feat_importances.nlargest(15).plot(kind='barh')"
   ]
  },
  {
   "cell_type": "markdown",
   "metadata": {},
   "source": [
    "# Submission\n",
    "Если все устраевает - готовим Submission на кагл"
   ]
  },
  {
   "cell_type": "code",
   "execution_count": 62,
   "metadata": {
    "execution": {
     "iopub.execute_input": "2021-12-01T07:48:44.329859Z",
     "iopub.status.busy": "2021-12-01T07:48:44.329495Z",
     "iopub.status.idle": "2021-12-01T07:48:44.361156Z",
     "shell.execute_reply": "2021-12-01T07:48:44.360124Z",
     "shell.execute_reply.started": "2021-12-01T07:48:44.329795Z"
    }
   },
   "outputs": [],
   "source": [
    "test_data.sample(10)"
   ]
  },
  {
   "cell_type": "code",
   "execution_count": 63,
   "metadata": {
    "execution": {
     "iopub.execute_input": "2021-12-01T07:48:47.499708Z",
     "iopub.status.busy": "2021-12-01T07:48:47.499388Z",
     "iopub.status.idle": "2021-12-01T07:48:47.507075Z",
     "shell.execute_reply": "2021-12-01T07:48:47.506067Z",
     "shell.execute_reply.started": "2021-12-01T07:48:47.499646Z"
    }
   },
   "outputs": [],
   "source": [
    "test_data = test_data.drop(['rating'], axis=1)"
   ]
  },
  {
   "cell_type": "code",
   "execution_count": 64,
   "metadata": {
    "execution": {
     "iopub.execute_input": "2021-12-01T07:48:50.353132Z",
     "iopub.status.busy": "2021-12-01T07:48:50.352580Z",
     "iopub.status.idle": "2021-12-01T07:48:50.368704Z",
     "shell.execute_reply": "2021-12-01T07:48:50.367532Z",
     "shell.execute_reply.started": "2021-12-01T07:48:50.353065Z"
    }
   },
   "outputs": [],
   "source": [
    "sample_submission"
   ]
  },
  {
   "cell_type": "code",
   "execution_count": 65,
   "metadata": {
    "execution": {
     "iopub.execute_input": "2021-12-01T07:48:53.460876Z",
     "iopub.status.busy": "2021-12-01T07:48:53.460517Z",
     "iopub.status.idle": "2021-12-01T07:48:53.573956Z",
     "shell.execute_reply": "2021-12-01T07:48:53.572904Z",
     "shell.execute_reply.started": "2021-12-01T07:48:53.460813Z"
    }
   },
   "outputs": [],
   "source": [
    "predict_submission = model.predict(test_data)"
   ]
  },
  {
   "cell_type": "code",
   "execution_count": 66,
   "metadata": {
    "execution": {
     "iopub.execute_input": "2021-12-01T07:48:56.370293Z",
     "iopub.status.busy": "2021-12-01T07:48:56.369983Z",
     "iopub.status.idle": "2021-12-01T07:48:56.377685Z",
     "shell.execute_reply": "2021-12-01T07:48:56.376279Z",
     "shell.execute_reply.started": "2021-12-01T07:48:56.370255Z"
    }
   },
   "outputs": [],
   "source": [
    "# для удобства сравнения делаем рейтинги кратными 0.5\n",
    "predict_submission = np.round(predict_submission * 2) / 2\n",
    "predict_submission"
   ]
  },
  {
   "cell_type": "code",
   "execution_count": 67,
   "metadata": {
    "execution": {
     "iopub.execute_input": "2021-12-01T07:48:58.876439Z",
     "iopub.status.busy": "2021-12-01T07:48:58.875843Z",
     "iopub.status.idle": "2021-12-01T07:48:59.408623Z",
     "shell.execute_reply": "2021-12-01T07:48:59.407913Z",
     "shell.execute_reply.started": "2021-12-01T07:48:58.876381Z"
    }
   },
   "outputs": [],
   "source": [
    "sample_submission['Rating'] = predict_submission\n",
    "sample_submission.to_csv('submission.csv', index=False)\n",
    "sample_submission.head(10)"
   ]
  },
  {
   "cell_type": "markdown",
   "metadata": {},
   "source": [
    "# What's next?\n",
    "Или что делать, чтоб улучшить результат:\n",
    "* Обработать оставшиеся признаки в понятный для машины формат\n",
    "* Посмотреть, что еще можно извлечь из признаков\n",
    "* Сгенерировать новые признаки\n",
    "* Подгрузить дополнительные данные, например: по населению или благосостоянию городов\n",
    "* Подобрать состав признаков\n",
    "\n",
    "В общем, процесс творческий и весьма увлекательный! Удачи в соревновании!\n"
   ]
  },
  {
   "cell_type": "code",
   "execution_count": null,
   "metadata": {},
   "outputs": [],
   "source": []
  }
 ],
 "metadata": {
  "kernelspec": {
   "display_name": "Python 3 (ipykernel)",
   "language": "python",
   "name": "python3"
  },
  "language_info": {
   "codemirror_mode": {
    "name": "ipython",
    "version": 3
   },
   "file_extension": ".py",
   "mimetype": "text/x-python",
   "name": "python",
   "nbconvert_exporter": "python",
   "pygments_lexer": "ipython3",
   "version": "3.8.8"
  }
 },
 "nbformat": 4,
 "nbformat_minor": 4
}
